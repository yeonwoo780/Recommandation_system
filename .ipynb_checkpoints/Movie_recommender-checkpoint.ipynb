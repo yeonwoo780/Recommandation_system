{
 "cells": [
  {
   "cell_type": "markdown",
   "id": "fb001474",
   "metadata": {},
   "source": [
    "### 사용자 기반 협업 필터링 추천시스템"
   ]
  },
  {
   "cell_type": "code",
   "execution_count": 1,
   "id": "b5a03de4",
   "metadata": {},
   "outputs": [],
   "source": [
    "import pandas as pd\n",
    "import numpy as np\n",
    "\n",
    "from sqlalchemy import create_engine\n",
    "\n",
    "import pymysql\n",
    "import matplotlib.pyplot as plt\n",
    "from matplotlib import font_manager, rc\n",
    "\n",
    "from sklearn.preprocessing import LabelEncoder\n",
    "from sklearn.model_selection import train_test_split\n",
    "from tqdm import tqdm\n",
    "import random"
   ]
  },
  {
   "cell_type": "code",
   "execution_count": 2,
   "id": "a17f145b",
   "metadata": {},
   "outputs": [
    {
     "name": "stderr",
     "output_type": "stream",
     "text": [
      "<ipython-input-2-9b79af47684a>:5: SADeprecationWarning: The create_engine.convert_unicode parameter and corresponding dialect-level parameters are deprecated, and will be removed in a future release.  Modern DBAPIs support Python Unicode natively and this parameter is unnecessary.\n",
      "  engine = create_engine(f'mysql+pymysql://{user}:{pwd}@{server}/{db_name}?charset=utf8',\n"
     ]
    },
    {
     "data": {
      "text/html": [
       "<div>\n",
       "<style scoped>\n",
       "    .dataframe tbody tr th:only-of-type {\n",
       "        vertical-align: middle;\n",
       "    }\n",
       "\n",
       "    .dataframe tbody tr th {\n",
       "        vertical-align: top;\n",
       "    }\n",
       "\n",
       "    .dataframe thead th {\n",
       "        text-align: right;\n",
       "    }\n",
       "</style>\n",
       "<table border=\"1\" class=\"dataframe\">\n",
       "  <thead>\n",
       "    <tr style=\"text-align: right;\">\n",
       "      <th></th>\n",
       "      <th>id</th>\n",
       "      <th>user</th>\n",
       "      <th>title</th>\n",
       "      <th>genre</th>\n",
       "      <th>score</th>\n",
       "    </tr>\n",
       "  </thead>\n",
       "  <tbody>\n",
       "    <tr>\n",
       "      <th>0</th>\n",
       "      <td>63</td>\n",
       "      <td>tnen</td>\n",
       "      <td>기방도령</td>\n",
       "      <td>코미디</td>\n",
       "      <td>4</td>\n",
       "    </tr>\n",
       "    <tr>\n",
       "      <th>1</th>\n",
       "      <td>64</td>\n",
       "      <td>tnen</td>\n",
       "      <td>페이트 스테이 나이트 헤븐즈필 제2장 로스트 버터플라이</td>\n",
       "      <td>애니메이션</td>\n",
       "      <td>1</td>\n",
       "    </tr>\n",
       "    <tr>\n",
       "      <th>2</th>\n",
       "      <td>65</td>\n",
       "      <td>tnen</td>\n",
       "      <td>사바하</td>\n",
       "      <td>미스터리</td>\n",
       "      <td>10</td>\n",
       "    </tr>\n",
       "    <tr>\n",
       "      <th>3</th>\n",
       "      <td>66</td>\n",
       "      <td>tnen</td>\n",
       "      <td>글래스</td>\n",
       "      <td>드라마</td>\n",
       "      <td>10</td>\n",
       "    </tr>\n",
       "    <tr>\n",
       "      <th>4</th>\n",
       "      <td>67</td>\n",
       "      <td>tnen</td>\n",
       "      <td>모털 엔진</td>\n",
       "      <td>액션</td>\n",
       "      <td>10</td>\n",
       "    </tr>\n",
       "    <tr>\n",
       "      <th>...</th>\n",
       "      <td>...</td>\n",
       "      <td>...</td>\n",
       "      <td>...</td>\n",
       "      <td>...</td>\n",
       "      <td>...</td>\n",
       "    </tr>\n",
       "    <tr>\n",
       "      <th>35689</th>\n",
       "      <td>35752</td>\n",
       "      <td>dela</td>\n",
       "      <td>나이브스 아웃</td>\n",
       "      <td>미스터리</td>\n",
       "      <td>10</td>\n",
       "    </tr>\n",
       "    <tr>\n",
       "      <th>35690</th>\n",
       "      <td>35753</td>\n",
       "      <td>dela</td>\n",
       "      <td>헌트</td>\n",
       "      <td>액션</td>\n",
       "      <td>9</td>\n",
       "    </tr>\n",
       "    <tr>\n",
       "      <th>35691</th>\n",
       "      <td>35754</td>\n",
       "      <td>dela</td>\n",
       "      <td>미드소마</td>\n",
       "      <td>공포</td>\n",
       "      <td>5</td>\n",
       "    </tr>\n",
       "    <tr>\n",
       "      <th>35692</th>\n",
       "      <td>35755</td>\n",
       "      <td>dela</td>\n",
       "      <td>미져리</td>\n",
       "      <td>스릴러</td>\n",
       "      <td>10</td>\n",
       "    </tr>\n",
       "    <tr>\n",
       "      <th>35693</th>\n",
       "      <td>35756</td>\n",
       "      <td>dela</td>\n",
       "      <td>살인마 잭의 집</td>\n",
       "      <td>드라마</td>\n",
       "      <td>6</td>\n",
       "    </tr>\n",
       "  </tbody>\n",
       "</table>\n",
       "<p>35694 rows × 5 columns</p>\n",
       "</div>"
      ],
      "text/plain": [
       "          id  user                           title  genre score\n",
       "0         63  tnen                            기방도령    코미디     4\n",
       "1         64  tnen  페이트 스테이 나이트 헤븐즈필 제2장 로스트 버터플라이  애니메이션     1\n",
       "2         65  tnen                             사바하   미스터리    10\n",
       "3         66  tnen                             글래스    드라마    10\n",
       "4         67  tnen                           모털 엔진     액션    10\n",
       "...      ...   ...                             ...    ...   ...\n",
       "35689  35752  dela                         나이브스 아웃   미스터리    10\n",
       "35690  35753  dela                              헌트     액션     9\n",
       "35691  35754  dela                            미드소마     공포     5\n",
       "35692  35755  dela                             미져리    스릴러    10\n",
       "35693  35756  dela                        살인마 잭의 집    드라마     6\n",
       "\n",
       "[35694 rows x 5 columns]"
      ]
     },
     "execution_count": 2,
     "metadata": {},
     "output_type": "execute_result"
    }
   ],
   "source": [
    "user = 'root'\n",
    "pwd = '1234'\n",
    "server = 'localhost'\n",
    "db_name = 'movie_review'\n",
    "engine = create_engine(f'mysql+pymysql://{user}:{pwd}@{server}/{db_name}?charset=utf8', \n",
    "              convert_unicode = True)\n",
    "\n",
    "connect = engine.connect()\n",
    "raw_data = pd.read_sql_table('raw_file', connect)\n",
    "raw_data"
   ]
  },
  {
   "cell_type": "code",
   "execution_count": 3,
   "id": "021944d2",
   "metadata": {},
   "outputs": [
    {
     "name": "stdout",
     "output_type": "stream",
     "text": [
      "Wall time: 34.8 s\n"
     ]
    },
    {
     "data": {
      "text/html": [
       "<div>\n",
       "<style scoped>\n",
       "    .dataframe tbody tr th:only-of-type {\n",
       "        vertical-align: middle;\n",
       "    }\n",
       "\n",
       "    .dataframe tbody tr th {\n",
       "        vertical-align: top;\n",
       "    }\n",
       "\n",
       "    .dataframe thead th {\n",
       "        text-align: right;\n",
       "    }\n",
       "</style>\n",
       "<table border=\"1\" class=\"dataframe\">\n",
       "  <thead>\n",
       "    <tr style=\"text-align: right;\">\n",
       "      <th></th>\n",
       "      <th>id</th>\n",
       "      <th>user</th>\n",
       "      <th>title</th>\n",
       "      <th>genre</th>\n",
       "      <th>score</th>\n",
       "    </tr>\n",
       "  </thead>\n",
       "  <tbody>\n",
       "    <tr>\n",
       "      <th>0</th>\n",
       "      <td>63</td>\n",
       "      <td>tnen</td>\n",
       "      <td>기방도령</td>\n",
       "      <td>코미디</td>\n",
       "      <td>4</td>\n",
       "    </tr>\n",
       "    <tr>\n",
       "      <th>1</th>\n",
       "      <td>64</td>\n",
       "      <td>tnen</td>\n",
       "      <td>페이트 스테이 나이트 헤븐즈필 제2장 로스트 버터플라이</td>\n",
       "      <td>애니메이션</td>\n",
       "      <td>1</td>\n",
       "    </tr>\n",
       "    <tr>\n",
       "      <th>2</th>\n",
       "      <td>65</td>\n",
       "      <td>tnen</td>\n",
       "      <td>사바하</td>\n",
       "      <td>미스터리</td>\n",
       "      <td>10</td>\n",
       "    </tr>\n",
       "    <tr>\n",
       "      <th>3</th>\n",
       "      <td>66</td>\n",
       "      <td>tnen</td>\n",
       "      <td>글래스</td>\n",
       "      <td>드라마</td>\n",
       "      <td>10</td>\n",
       "    </tr>\n",
       "    <tr>\n",
       "      <th>4</th>\n",
       "      <td>67</td>\n",
       "      <td>tnen</td>\n",
       "      <td>모털 엔진</td>\n",
       "      <td>액션</td>\n",
       "      <td>10</td>\n",
       "    </tr>\n",
       "    <tr>\n",
       "      <th>...</th>\n",
       "      <td>...</td>\n",
       "      <td>...</td>\n",
       "      <td>...</td>\n",
       "      <td>...</td>\n",
       "      <td>...</td>\n",
       "    </tr>\n",
       "    <tr>\n",
       "      <th>35685</th>\n",
       "      <td>35748</td>\n",
       "      <td>dela</td>\n",
       "      <td>마스터</td>\n",
       "      <td>드라마</td>\n",
       "      <td>6</td>\n",
       "    </tr>\n",
       "    <tr>\n",
       "      <th>35689</th>\n",
       "      <td>35752</td>\n",
       "      <td>dela</td>\n",
       "      <td>나이브스 아웃</td>\n",
       "      <td>미스터리</td>\n",
       "      <td>10</td>\n",
       "    </tr>\n",
       "    <tr>\n",
       "      <th>35690</th>\n",
       "      <td>35753</td>\n",
       "      <td>dela</td>\n",
       "      <td>헌트</td>\n",
       "      <td>액션</td>\n",
       "      <td>9</td>\n",
       "    </tr>\n",
       "    <tr>\n",
       "      <th>35691</th>\n",
       "      <td>35754</td>\n",
       "      <td>dela</td>\n",
       "      <td>미드소마</td>\n",
       "      <td>공포</td>\n",
       "      <td>5</td>\n",
       "    </tr>\n",
       "    <tr>\n",
       "      <th>35693</th>\n",
       "      <td>35756</td>\n",
       "      <td>dela</td>\n",
       "      <td>살인마 잭의 집</td>\n",
       "      <td>드라마</td>\n",
       "      <td>6</td>\n",
       "    </tr>\n",
       "  </tbody>\n",
       "</table>\n",
       "<p>23095 rows × 5 columns</p>\n",
       "</div>"
      ],
      "text/plain": [
       "          id  user                           title  genre score\n",
       "0         63  tnen                            기방도령    코미디     4\n",
       "1         64  tnen  페이트 스테이 나이트 헤븐즈필 제2장 로스트 버터플라이  애니메이션     1\n",
       "2         65  tnen                             사바하   미스터리    10\n",
       "3         66  tnen                             글래스    드라마    10\n",
       "4         67  tnen                           모털 엔진     액션    10\n",
       "...      ...   ...                             ...    ...   ...\n",
       "35685  35748  dela                             마스터    드라마     6\n",
       "35689  35752  dela                         나이브스 아웃   미스터리    10\n",
       "35690  35753  dela                              헌트     액션     9\n",
       "35691  35754  dela                            미드소마     공포     5\n",
       "35693  35756  dela                        살인마 잭의 집    드라마     6\n",
       "\n",
       "[23095 rows x 5 columns]"
      ]
     },
     "execution_count": 3,
     "metadata": {},
     "output_type": "execute_result"
    }
   ],
   "source": [
    "%%time\n",
    "# 10개 평가 이하 영화 제거\n",
    "\n",
    "def refinding_df(raw_data):\n",
    "    title_number_df = raw_data.groupby('title').count().sort_values('user')\n",
    "#     print(title_number_df)\n",
    "    title_under_10 = title_number_df[title_number_df.user <= 10]\n",
    "#     print(title_under_10)\n",
    "    \n",
    "    title_under_10_list = list(title_under_10.index)\n",
    "#     print(title_under_10_list)\n",
    "    for title in title_under_10_list:\n",
    "        raw_data = raw_data[raw_data['title'] != title]\n",
    "    return raw_data\n",
    "    \n",
    "raw_df = refinding_df(raw_data)\n",
    "raw_df"
   ]
  },
  {
   "cell_type": "code",
   "execution_count": 4,
   "id": "d934d6f8",
   "metadata": {},
   "outputs": [
    {
     "data": {
      "text/html": [
       "<div>\n",
       "<style scoped>\n",
       "    .dataframe tbody tr th:only-of-type {\n",
       "        vertical-align: middle;\n",
       "    }\n",
       "\n",
       "    .dataframe tbody tr th {\n",
       "        vertical-align: top;\n",
       "    }\n",
       "\n",
       "    .dataframe thead th {\n",
       "        text-align: right;\n",
       "    }\n",
       "</style>\n",
       "<table border=\"1\" class=\"dataframe\">\n",
       "  <thead>\n",
       "    <tr style=\"text-align: right;\">\n",
       "      <th></th>\n",
       "      <th>id</th>\n",
       "      <th>user</th>\n",
       "      <th>title</th>\n",
       "      <th>genre</th>\n",
       "      <th>score</th>\n",
       "    </tr>\n",
       "  </thead>\n",
       "  <tbody>\n",
       "    <tr>\n",
       "      <th>35685</th>\n",
       "      <td>35748</td>\n",
       "      <td>dela</td>\n",
       "      <td>마스터</td>\n",
       "      <td>드라마</td>\n",
       "      <td>6</td>\n",
       "    </tr>\n",
       "    <tr>\n",
       "      <th>35689</th>\n",
       "      <td>35752</td>\n",
       "      <td>dela</td>\n",
       "      <td>나이브스 아웃</td>\n",
       "      <td>미스터리</td>\n",
       "      <td>10</td>\n",
       "    </tr>\n",
       "    <tr>\n",
       "      <th>35690</th>\n",
       "      <td>35753</td>\n",
       "      <td>dela</td>\n",
       "      <td>헌트</td>\n",
       "      <td>액션</td>\n",
       "      <td>9</td>\n",
       "    </tr>\n",
       "    <tr>\n",
       "      <th>35691</th>\n",
       "      <td>35754</td>\n",
       "      <td>dela</td>\n",
       "      <td>미드소마</td>\n",
       "      <td>공포</td>\n",
       "      <td>5</td>\n",
       "    </tr>\n",
       "    <tr>\n",
       "      <th>35693</th>\n",
       "      <td>35756</td>\n",
       "      <td>dela</td>\n",
       "      <td>살인마 잭의 집</td>\n",
       "      <td>드라마</td>\n",
       "      <td>6</td>\n",
       "    </tr>\n",
       "  </tbody>\n",
       "</table>\n",
       "</div>"
      ],
      "text/plain": [
       "          id  user     title genre score\n",
       "35685  35748  dela       마스터   드라마     6\n",
       "35689  35752  dela   나이브스 아웃  미스터리    10\n",
       "35690  35753  dela        헌트    액션     9\n",
       "35691  35754  dela      미드소마    공포     5\n",
       "35693  35756  dela  살인마 잭의 집   드라마     6"
      ]
     },
     "execution_count": 4,
     "metadata": {},
     "output_type": "execute_result"
    }
   ],
   "source": [
    "raw_df.tail()"
   ]
  },
  {
   "cell_type": "code",
   "execution_count": 5,
   "id": "e54a1bd1",
   "metadata": {},
   "outputs": [
    {
     "data": {
      "text/html": [
       "<div>\n",
       "<style scoped>\n",
       "    .dataframe tbody tr th:only-of-type {\n",
       "        vertical-align: middle;\n",
       "    }\n",
       "\n",
       "    .dataframe tbody tr th {\n",
       "        vertical-align: top;\n",
       "    }\n",
       "\n",
       "    .dataframe thead th {\n",
       "        text-align: right;\n",
       "    }\n",
       "</style>\n",
       "<table border=\"1\" class=\"dataframe\">\n",
       "  <thead>\n",
       "    <tr style=\"text-align: right;\">\n",
       "      <th></th>\n",
       "      <th>id</th>\n",
       "      <th>user</th>\n",
       "      <th>title</th>\n",
       "      <th>genre</th>\n",
       "      <th>score</th>\n",
       "    </tr>\n",
       "  </thead>\n",
       "  <tbody>\n",
       "    <tr>\n",
       "      <th>0</th>\n",
       "      <td>63</td>\n",
       "      <td>tnen</td>\n",
       "      <td>기방도령</td>\n",
       "      <td>코미디</td>\n",
       "      <td>4</td>\n",
       "    </tr>\n",
       "    <tr>\n",
       "      <th>1</th>\n",
       "      <td>64</td>\n",
       "      <td>tnen</td>\n",
       "      <td>페이트 스테이 나이트 헤븐즈필 제2장 로스트 버터플라이</td>\n",
       "      <td>애니메이션</td>\n",
       "      <td>1</td>\n",
       "    </tr>\n",
       "    <tr>\n",
       "      <th>2</th>\n",
       "      <td>65</td>\n",
       "      <td>tnen</td>\n",
       "      <td>사바하</td>\n",
       "      <td>미스터리</td>\n",
       "      <td>10</td>\n",
       "    </tr>\n",
       "    <tr>\n",
       "      <th>3</th>\n",
       "      <td>66</td>\n",
       "      <td>tnen</td>\n",
       "      <td>글래스</td>\n",
       "      <td>드라마</td>\n",
       "      <td>10</td>\n",
       "    </tr>\n",
       "    <tr>\n",
       "      <th>4</th>\n",
       "      <td>67</td>\n",
       "      <td>tnen</td>\n",
       "      <td>모털 엔진</td>\n",
       "      <td>액션</td>\n",
       "      <td>10</td>\n",
       "    </tr>\n",
       "    <tr>\n",
       "      <th>...</th>\n",
       "      <td>...</td>\n",
       "      <td>...</td>\n",
       "      <td>...</td>\n",
       "      <td>...</td>\n",
       "      <td>...</td>\n",
       "    </tr>\n",
       "    <tr>\n",
       "      <th>35685</th>\n",
       "      <td>35748</td>\n",
       "      <td>dela</td>\n",
       "      <td>마스터</td>\n",
       "      <td>드라마</td>\n",
       "      <td>6</td>\n",
       "    </tr>\n",
       "    <tr>\n",
       "      <th>35689</th>\n",
       "      <td>35752</td>\n",
       "      <td>dela</td>\n",
       "      <td>나이브스 아웃</td>\n",
       "      <td>미스터리</td>\n",
       "      <td>10</td>\n",
       "    </tr>\n",
       "    <tr>\n",
       "      <th>35690</th>\n",
       "      <td>35753</td>\n",
       "      <td>dela</td>\n",
       "      <td>헌트</td>\n",
       "      <td>액션</td>\n",
       "      <td>9</td>\n",
       "    </tr>\n",
       "    <tr>\n",
       "      <th>35691</th>\n",
       "      <td>35754</td>\n",
       "      <td>dela</td>\n",
       "      <td>미드소마</td>\n",
       "      <td>공포</td>\n",
       "      <td>5</td>\n",
       "    </tr>\n",
       "    <tr>\n",
       "      <th>35693</th>\n",
       "      <td>35756</td>\n",
       "      <td>dela</td>\n",
       "      <td>살인마 잭의 집</td>\n",
       "      <td>드라마</td>\n",
       "      <td>6</td>\n",
       "    </tr>\n",
       "  </tbody>\n",
       "</table>\n",
       "<p>23095 rows × 5 columns</p>\n",
       "</div>"
      ],
      "text/plain": [
       "          id  user                           title  genre score\n",
       "0         63  tnen                            기방도령    코미디     4\n",
       "1         64  tnen  페이트 스테이 나이트 헤븐즈필 제2장 로스트 버터플라이  애니메이션     1\n",
       "2         65  tnen                             사바하   미스터리    10\n",
       "3         66  tnen                             글래스    드라마    10\n",
       "4         67  tnen                           모털 엔진     액션    10\n",
       "...      ...   ...                             ...    ...   ...\n",
       "35685  35748  dela                             마스터    드라마     6\n",
       "35689  35752  dela                         나이브스 아웃   미스터리    10\n",
       "35690  35753  dela                              헌트     액션     9\n",
       "35691  35754  dela                            미드소마     공포     5\n",
       "35693  35756  dela                        살인마 잭의 집    드라마     6\n",
       "\n",
       "[23095 rows x 5 columns]"
      ]
     },
     "execution_count": 5,
     "metadata": {},
     "output_type": "execute_result"
    }
   ],
   "source": [
    "df = raw_df.copy()\n",
    "df"
   ]
  },
  {
   "cell_type": "code",
   "execution_count": 6,
   "id": "a2080fcf",
   "metadata": {},
   "outputs": [
    {
     "data": {
      "text/html": [
       "<div>\n",
       "<style scoped>\n",
       "    .dataframe tbody tr th:only-of-type {\n",
       "        vertical-align: middle;\n",
       "    }\n",
       "\n",
       "    .dataframe tbody tr th {\n",
       "        vertical-align: top;\n",
       "    }\n",
       "\n",
       "    .dataframe thead th {\n",
       "        text-align: right;\n",
       "    }\n",
       "</style>\n",
       "<table border=\"1\" class=\"dataframe\">\n",
       "  <thead>\n",
       "    <tr style=\"text-align: right;\">\n",
       "      <th></th>\n",
       "      <th>user</th>\n",
       "      <th>title</th>\n",
       "      <th>genre</th>\n",
       "      <th>score</th>\n",
       "    </tr>\n",
       "  </thead>\n",
       "  <tbody>\n",
       "    <tr>\n",
       "      <th>35685</th>\n",
       "      <td>dela</td>\n",
       "      <td>마스터</td>\n",
       "      <td>드라마</td>\n",
       "      <td>6</td>\n",
       "    </tr>\n",
       "    <tr>\n",
       "      <th>35689</th>\n",
       "      <td>dela</td>\n",
       "      <td>나이브스 아웃</td>\n",
       "      <td>미스터리</td>\n",
       "      <td>10</td>\n",
       "    </tr>\n",
       "    <tr>\n",
       "      <th>35690</th>\n",
       "      <td>dela</td>\n",
       "      <td>헌트</td>\n",
       "      <td>액션</td>\n",
       "      <td>9</td>\n",
       "    </tr>\n",
       "    <tr>\n",
       "      <th>35691</th>\n",
       "      <td>dela</td>\n",
       "      <td>미드소마</td>\n",
       "      <td>공포</td>\n",
       "      <td>5</td>\n",
       "    </tr>\n",
       "    <tr>\n",
       "      <th>35693</th>\n",
       "      <td>dela</td>\n",
       "      <td>살인마 잭의 집</td>\n",
       "      <td>드라마</td>\n",
       "      <td>6</td>\n",
       "    </tr>\n",
       "  </tbody>\n",
       "</table>\n",
       "</div>"
      ],
      "text/plain": [
       "       user     title genre score\n",
       "35685  dela       마스터   드라마     6\n",
       "35689  dela   나이브스 아웃  미스터리    10\n",
       "35690  dela        헌트    액션     9\n",
       "35691  dela      미드소마    공포     5\n",
       "35693  dela  살인마 잭의 집   드라마     6"
      ]
     },
     "execution_count": 6,
     "metadata": {},
     "output_type": "execute_result"
    }
   ],
   "source": [
    "df = df.drop(['id'],axis = 1)\n",
    "df.tail()"
   ]
  },
  {
   "cell_type": "markdown",
   "id": "4c87a69c",
   "metadata": {},
   "source": [
    "### DATA 탐색"
   ]
  },
  {
   "cell_type": "code",
   "execution_count": 7,
   "id": "bf50cdda",
   "metadata": {},
   "outputs": [
    {
     "name": "stdout",
     "output_type": "stream",
     "text": [
      "유저에 수는 813명이고, \n",
      "영화의 수는 676이다.\n"
     ]
    }
   ],
   "source": [
    "user_num = df['user'].unique().shape[0]\n",
    "movie_num = df.title.unique().shape[0]\n",
    "\n",
    "print(f'유저에 수는 {user_num}명이고, \\n영화의 수는 {movie_num}이다.')"
   ]
  },
  {
   "cell_type": "markdown",
   "id": "2d25415a",
   "metadata": {},
   "source": [
    "### 평점을 많이 남긴 유저 탑10"
   ]
  },
  {
   "cell_type": "code",
   "execution_count": 8,
   "id": "4333a507",
   "metadata": {},
   "outputs": [
    {
     "data": {
      "text/plain": [
       "ykki    485\n",
       "yang    264\n",
       "choi    240\n",
       "phs3    225\n",
       "mari    221\n",
       "bell    201\n",
       "psgi    195\n",
       "pass    186\n",
       "inos    183\n",
       "llfo    180\n",
       "Name: user, dtype: int64"
      ]
     },
     "execution_count": 8,
     "metadata": {},
     "output_type": "execute_result"
    }
   ],
   "source": [
    "user_top_10 = df.user.value_counts()[:10]\n",
    "user_top_10"
   ]
  },
  {
   "cell_type": "code",
   "execution_count": 9,
   "id": "d7bfb4a0",
   "metadata": {},
   "outputs": [
    {
     "data": {
      "image/png": "[encoded data removed]",
      "text/plain": [
       "<Figure size 864x720 with 1 Axes>"
      ]
     },
     "metadata": {},
     "output_type": "display_data"
    }
   ],
   "source": [
    "plt.style.use('ggplot')\n",
    "plt.figure(figsize=(12,10))\n",
    "user_top_10.plot(kind='bar', title='User Count Rank', legend=True, \n",
    "                 fontsize=12)\n",
    "plt.xticks(rotation=30)\n",
    "plt.ylabel('Number of reviews', fontsize=12)\n",
    "plt.show()"
   ]
  },
  {
   "cell_type": "markdown",
   "id": "09e05280",
   "metadata": {},
   "source": [
    "#### 유저들로 부터 평점을 많이 받은 영화 탑10"
   ]
  },
  {
   "cell_type": "code",
   "execution_count": 10,
   "id": "159855e8",
   "metadata": {},
   "outputs": [],
   "source": [
    "font_name = font_manager.FontProperties(fname='C:/Windows/Fonts/malgun.ttf').get_name()\n",
    "# font_name\n",
    "rc('font', family=font_name)\n",
    "movie_top_10 = df.title.value_counts()[:10]"
   ]
  },
  {
   "cell_type": "code",
   "execution_count": 11,
   "id": "0df64913",
   "metadata": {},
   "outputs": [
    {
     "data": {
      "image/png": "[encoded data removed]",
      "text/plain": [
       "<Figure size 864x720 with 1 Axes>"
      ]
     },
     "metadata": {},
     "output_type": "display_data"
    }
   ],
   "source": [
    "plt.figure(figsize=(12,10))\n",
    "movie_top_10.plot(kind='bar', title='Movie Count Rank', legend=True, \n",
    "                 fontsize=12, color='b')\n",
    "\n",
    "plt.xticks(rotation=30)\n",
    "plt.ylabel('Number of reviews', fontsize=12)\n",
    "plt.show()"
   ]
  },
  {
   "cell_type": "markdown",
   "id": "a4ea1ff1",
   "metadata": {},
   "source": [
    "### 평점랭킹"
   ]
  },
  {
   "cell_type": "code",
   "execution_count": 12,
   "id": "53ff5ddd",
   "metadata": {},
   "outputs": [
    {
     "data": {
      "image/png": "[encoded data removed]",
      "text/plain": [
       "<Figure size 432x288 with 1 Axes>"
      ]
     },
     "metadata": {},
     "output_type": "display_data"
    }
   ],
   "source": [
    "score_ranking = df.score.value_counts()\n",
    "plt.style.use('ggplot')\n",
    "score_ranking.plot(kind='bar', title='Score Rank', legend=True, fontsize=12)\n",
    "plt.xticks(rotation=0)\n",
    "plt.ylabel('Number of reviews', fontsize=12)\n",
    "plt.show()"
   ]
  },
  {
   "cell_type": "markdown",
   "id": "a350bd23",
   "metadata": {},
   "source": [
    "####  Colaborative Filtering\n",
    "###### 1. 행렬로 만든다.\n",
    "###### 2. 추천하고자 하는 유저가 입력되면 코사인 유사도를 이용하여 각 유사도를 구한다.\n",
    "###### 3. 추천하고자 하는 유저(t)와 K명의 비슷한 유저들의 아이템에 대한 평점을 이용하여  유저가아직 평가하지 않은 영화의 평점을 예측해서 유저에게 추천함.\n",
    "###### 4. Validation 한다."
   ]
  },
  {
   "cell_type": "code",
   "execution_count": 13,
   "id": "e25dd2c4",
   "metadata": {},
   "outputs": [],
   "source": [
    "#LabelEncoder를 이용하여 수치화\n",
    "def execute_labeling(column_name):\n",
    "    Lec = LabelEncoder()\n",
    "    df_copy = df.copy()\n",
    "    labeling_data = Lec.fit_transform(df_copy[column_name].values)\n",
    "    df_label = pd.DataFrame(labeling_data, columns = [column_name+'_label'], index=df_copy.index)\n",
    "#     print(labeling_data)\n",
    "    return df_label\n",
    "    \n",
    "df_user = execute_labeling('user')\n",
    "df_title = execute_labeling('title')"
   ]
  },
  {
   "cell_type": "code",
   "execution_count": 14,
   "id": "7822d87f",
   "metadata": {},
   "outputs": [
    {
     "data": {
      "text/html": [
       "<div>\n",
       "<style scoped>\n",
       "    .dataframe tbody tr th:only-of-type {\n",
       "        vertical-align: middle;\n",
       "    }\n",
       "\n",
       "    .dataframe tbody tr th {\n",
       "        vertical-align: top;\n",
       "    }\n",
       "\n",
       "    .dataframe thead th {\n",
       "        text-align: right;\n",
       "    }\n",
       "</style>\n",
       "<table border=\"1\" class=\"dataframe\">\n",
       "  <thead>\n",
       "    <tr style=\"text-align: right;\">\n",
       "      <th></th>\n",
       "      <th>user_label</th>\n",
       "    </tr>\n",
       "  </thead>\n",
       "  <tbody>\n",
       "    <tr>\n",
       "      <th>35691</th>\n",
       "      <td>143</td>\n",
       "    </tr>\n",
       "    <tr>\n",
       "      <th>35693</th>\n",
       "      <td>143</td>\n",
       "    </tr>\n",
       "  </tbody>\n",
       "</table>\n",
       "</div>"
      ],
      "text/plain": [
       "       user_label\n",
       "35691         143\n",
       "35693         143"
      ]
     },
     "execution_count": 14,
     "metadata": {},
     "output_type": "execute_result"
    }
   ],
   "source": [
    "df_user.tail(2)"
   ]
  },
  {
   "cell_type": "code",
   "execution_count": 15,
   "id": "3294c00f",
   "metadata": {},
   "outputs": [
    {
     "data": {
      "text/html": [
       "<div>\n",
       "<style scoped>\n",
       "    .dataframe tbody tr th:only-of-type {\n",
       "        vertical-align: middle;\n",
       "    }\n",
       "\n",
       "    .dataframe tbody tr th {\n",
       "        vertical-align: top;\n",
       "    }\n",
       "\n",
       "    .dataframe thead th {\n",
       "        text-align: right;\n",
       "    }\n",
       "</style>\n",
       "<table border=\"1\" class=\"dataframe\">\n",
       "  <thead>\n",
       "    <tr style=\"text-align: right;\">\n",
       "      <th></th>\n",
       "      <th>title_label</th>\n",
       "    </tr>\n",
       "  </thead>\n",
       "  <tbody>\n",
       "    <tr>\n",
       "      <th>35691</th>\n",
       "      <td>254</td>\n",
       "    </tr>\n",
       "    <tr>\n",
       "      <th>35693</th>\n",
       "      <td>336</td>\n",
       "    </tr>\n",
       "  </tbody>\n",
       "</table>\n",
       "</div>"
      ],
      "text/plain": [
       "       title_label\n",
       "35691          254\n",
       "35693          336"
      ]
     },
     "execution_count": 15,
     "metadata": {},
     "output_type": "execute_result"
    }
   ],
   "source": [
    "df_title.tail(2)"
   ]
  },
  {
   "cell_type": "code",
   "execution_count": 16,
   "id": "74461d2a",
   "metadata": {},
   "outputs": [
    {
     "data": {
      "text/html": [
       "<div>\n",
       "<style scoped>\n",
       "    .dataframe tbody tr th:only-of-type {\n",
       "        vertical-align: middle;\n",
       "    }\n",
       "\n",
       "    .dataframe tbody tr th {\n",
       "        vertical-align: top;\n",
       "    }\n",
       "\n",
       "    .dataframe thead th {\n",
       "        text-align: right;\n",
       "    }\n",
       "</style>\n",
       "<table border=\"1\" class=\"dataframe\">\n",
       "  <thead>\n",
       "    <tr style=\"text-align: right;\">\n",
       "      <th></th>\n",
       "      <th>user_label</th>\n",
       "      <th>title_label</th>\n",
       "      <th>title</th>\n",
       "      <th>genre</th>\n",
       "      <th>score</th>\n",
       "    </tr>\n",
       "  </thead>\n",
       "  <tbody>\n",
       "    <tr>\n",
       "      <th>35685</th>\n",
       "      <td>143</td>\n",
       "      <td>214</td>\n",
       "      <td>마스터</td>\n",
       "      <td>드라마</td>\n",
       "      <td>6</td>\n",
       "    </tr>\n",
       "    <tr>\n",
       "      <th>35689</th>\n",
       "      <td>143</td>\n",
       "      <td>101</td>\n",
       "      <td>나이브스 아웃</td>\n",
       "      <td>미스터리</td>\n",
       "      <td>10</td>\n",
       "    </tr>\n",
       "    <tr>\n",
       "      <th>35690</th>\n",
       "      <td>143</td>\n",
       "      <td>658</td>\n",
       "      <td>헌트</td>\n",
       "      <td>액션</td>\n",
       "      <td>9</td>\n",
       "    </tr>\n",
       "    <tr>\n",
       "      <th>35691</th>\n",
       "      <td>143</td>\n",
       "      <td>254</td>\n",
       "      <td>미드소마</td>\n",
       "      <td>공포</td>\n",
       "      <td>5</td>\n",
       "    </tr>\n",
       "    <tr>\n",
       "      <th>35693</th>\n",
       "      <td>143</td>\n",
       "      <td>336</td>\n",
       "      <td>살인마 잭의 집</td>\n",
       "      <td>드라마</td>\n",
       "      <td>6</td>\n",
       "    </tr>\n",
       "  </tbody>\n",
       "</table>\n",
       "</div>"
      ],
      "text/plain": [
       "       user_label  title_label     title genre score\n",
       "35685         143          214       마스터   드라마     6\n",
       "35689         143          101   나이브스 아웃  미스터리    10\n",
       "35690         143          658        헌트    액션     9\n",
       "35691         143          254      미드소마    공포     5\n",
       "35693         143          336  살인마 잭의 집   드라마     6"
      ]
     },
     "execution_count": 16,
     "metadata": {},
     "output_type": "execute_result"
    }
   ],
   "source": [
    "df_copy = df.copy()\n",
    "df_copy = df_copy.drop(df_copy.columns[[0]],axis=1)\n",
    "df_label = pd.concat([df_user, df_title, df_copy], axis=1)\n",
    "df_label.tail()"
   ]
  },
  {
   "cell_type": "code",
   "execution_count": 17,
   "id": "b172f6a8",
   "metadata": {},
   "outputs": [
    {
     "data": {
      "text/plain": [
       "(23095, 5)"
      ]
     },
     "execution_count": 17,
     "metadata": {},
     "output_type": "execute_result"
    }
   ],
   "source": [
    "df_label.shape"
   ]
  },
  {
   "cell_type": "code",
   "execution_count": 18,
   "id": "b7858a69",
   "metadata": {},
   "outputs": [
    {
     "data": {
      "text/html": [
       "<div>\n",
       "<style scoped>\n",
       "    .dataframe tbody tr th:only-of-type {\n",
       "        vertical-align: middle;\n",
       "    }\n",
       "\n",
       "    .dataframe tbody tr th {\n",
       "        vertical-align: top;\n",
       "    }\n",
       "\n",
       "    .dataframe thead th {\n",
       "        text-align: right;\n",
       "    }\n",
       "</style>\n",
       "<table border=\"1\" class=\"dataframe\">\n",
       "  <thead>\n",
       "    <tr style=\"text-align: right;\">\n",
       "      <th></th>\n",
       "      <th>user</th>\n",
       "      <th>#살아있다</th>\n",
       "      <th>0.0MHz</th>\n",
       "      <th>12 솔져스</th>\n",
       "      <th>120BPM</th>\n",
       "      <th>1917</th>\n",
       "      <th>1987</th>\n",
       "      <th>1급기밀</th>\n",
       "      <th>21 브릿지: 테러 셧다운</th>\n",
       "      <th>23 아이덴티티</th>\n",
       "      <th>...</th>\n",
       "      <th>화차</th>\n",
       "      <th>황해</th>\n",
       "      <th>후궁 : 제왕의 첩</th>\n",
       "      <th>흥부: 글로 세상을 바꾼 자</th>\n",
       "      <th>희생부활자</th>\n",
       "      <th>히든 피겨스</th>\n",
       "      <th>히말라야</th>\n",
       "      <th>히트</th>\n",
       "      <th>히트맨</th>\n",
       "      <th>힘을 내요, 미스터 리</th>\n",
       "    </tr>\n",
       "  </thead>\n",
       "  <tbody>\n",
       "  </tbody>\n",
       "</table>\n",
       "<p>0 rows × 677 columns</p>\n",
       "</div>"
      ],
      "text/plain": [
       "Empty DataFrame\n",
       "Columns: [user, #살아있다, 0.0MHz, 12 솔져스, 120BPM, 1917, 1987, 1급기밀, 21 브릿지: 테러 셧다운, 23 아이덴티티, 26년, 47 미터, 47미터 2, 6 언더그라운드, 7광구, 7년의 밤, 7번방의 선물, 7번째 내가 죽던 날, 7호실, 82년생 김지영, 8월의 크리스마스, PMC: 더 벙커, 가디언즈 오브 갤럭시 VOL. 2, 가려진 시간, 가버나움, 가장 보통의 연애, 감기, 감시자들, 감쪽같은 그녀, 강철비, 강철비2: 정상회담, 건축학개론, 걸캅스, 검객, 검사외전, 검은 사제들, 게이트, 겟 아웃, 겨울왕국, 겨울왕국 2, 결백, 결혼 이야기, 계춘할망, 고지전, 고질라 VS. 콩, 고질라: 킹 오브 몬스터, 곡성(哭聲), 곤지암, 골든슬럼버, 곰돌이 푸 다시 만나 행복해, 공각기동대 : 고스트 인 더 쉘, 공범자들, 공작, 공조, 관상, 광대: 소리꾼 감독판, 광대들: 풍문조작단, 광해, 왕이 된 남자, 국가부도의 날, 국제수사, 국제시장, 군도:민란의 시대, 군함도, 굿바이 싱글, 궁합, 귀향, 그 시절, 우리가 좋아했던 소녀, 그것, 그것: 두 번째 이야기, 그것만이 내 세상, 그날, 바다, 그래비티, 그린 북, 그린랜드, 극비수사, 극장판 귀멸의 칼날: 무한열차편, 극한직업, 글래스, 기기괴괴 성형수, 기묘한 가족, 기방도령, 기생충, 기억의 밤, 김씨 표류기, 꾼, 끝까지 간다, 나 홀로 집에, 나 홀로 집에 2 - 뉴욕을 헤매다, 나, 다니엘 블레이크, 나는 내일, 어제의 너와 만난다, 나는 전설이다, 나랏말싸미, 나를 기억해, 나를 차버린 스파이, 나를 찾아줘, 나미야 잡화점의 기적, 나비 효과, 나쁜 녀석들 : 포에버, 나쁜 녀석들: 더 무비, 나우 유 씨 미 2, ...]\n",
       "Index: []\n",
       "\n",
       "[0 rows x 677 columns]"
      ]
     },
     "execution_count": 18,
     "metadata": {},
     "output_type": "execute_result"
    }
   ],
   "source": [
    "movie_list = list(df['title'].unique())\n",
    "\n",
    "movie_list = sorted(movie_list, key=str)\n",
    "movie_list\n",
    "df_matrix = pd.DataFrame(columns = ['user'] + movie_list)\n",
    "df_matrix"
   ]
  },
  {
   "cell_type": "code",
   "execution_count": 19,
   "id": "2ff4ab1f",
   "metadata": {},
   "outputs": [
    {
     "name": "stderr",
     "output_type": "stream",
     "text": [
      "100%|████████████████████████████████████████████████████████████████████████████████| 813/813 [01:28<00:00,  9.21it/s]\n"
     ]
    },
    {
     "data": {
      "text/html": [
       "<div>\n",
       "<style scoped>\n",
       "    .dataframe tbody tr th:only-of-type {\n",
       "        vertical-align: middle;\n",
       "    }\n",
       "\n",
       "    .dataframe tbody tr th {\n",
       "        vertical-align: top;\n",
       "    }\n",
       "\n",
       "    .dataframe thead th {\n",
       "        text-align: right;\n",
       "    }\n",
       "</style>\n",
       "<table border=\"1\" class=\"dataframe\">\n",
       "  <thead>\n",
       "    <tr style=\"text-align: right;\">\n",
       "      <th></th>\n",
       "      <th>user</th>\n",
       "      <th>#살아있다</th>\n",
       "      <th>0.0MHz</th>\n",
       "      <th>12 솔져스</th>\n",
       "      <th>120BPM</th>\n",
       "      <th>1917</th>\n",
       "      <th>1987</th>\n",
       "      <th>1급기밀</th>\n",
       "      <th>21 브릿지: 테러 셧다운</th>\n",
       "      <th>23 아이덴티티</th>\n",
       "      <th>...</th>\n",
       "      <th>화차</th>\n",
       "      <th>황해</th>\n",
       "      <th>후궁 : 제왕의 첩</th>\n",
       "      <th>흥부: 글로 세상을 바꾼 자</th>\n",
       "      <th>희생부활자</th>\n",
       "      <th>히든 피겨스</th>\n",
       "      <th>히말라야</th>\n",
       "      <th>히트</th>\n",
       "      <th>히트맨</th>\n",
       "      <th>힘을 내요, 미스터 리</th>\n",
       "    </tr>\n",
       "  </thead>\n",
       "  <tbody>\n",
       "    <tr>\n",
       "      <th>0</th>\n",
       "      <td>0</td>\n",
       "      <td>0</td>\n",
       "      <td>8</td>\n",
       "      <td>0</td>\n",
       "      <td>0</td>\n",
       "      <td>10</td>\n",
       "      <td>0</td>\n",
       "      <td>0</td>\n",
       "      <td>0</td>\n",
       "      <td>0</td>\n",
       "      <td>...</td>\n",
       "      <td>0</td>\n",
       "      <td>0</td>\n",
       "      <td>0</td>\n",
       "      <td>0</td>\n",
       "      <td>0</td>\n",
       "      <td>0</td>\n",
       "      <td>0</td>\n",
       "      <td>0</td>\n",
       "      <td>0</td>\n",
       "      <td>0</td>\n",
       "    </tr>\n",
       "    <tr>\n",
       "      <th>1</th>\n",
       "      <td>1</td>\n",
       "      <td>0</td>\n",
       "      <td>0</td>\n",
       "      <td>0</td>\n",
       "      <td>0</td>\n",
       "      <td>0</td>\n",
       "      <td>0</td>\n",
       "      <td>0</td>\n",
       "      <td>0</td>\n",
       "      <td>0</td>\n",
       "      <td>...</td>\n",
       "      <td>0</td>\n",
       "      <td>0</td>\n",
       "      <td>0</td>\n",
       "      <td>0</td>\n",
       "      <td>0</td>\n",
       "      <td>0</td>\n",
       "      <td>0</td>\n",
       "      <td>0</td>\n",
       "      <td>0</td>\n",
       "      <td>0</td>\n",
       "    </tr>\n",
       "    <tr>\n",
       "      <th>2</th>\n",
       "      <td>2</td>\n",
       "      <td>0</td>\n",
       "      <td>0</td>\n",
       "      <td>0</td>\n",
       "      <td>0</td>\n",
       "      <td>0</td>\n",
       "      <td>0</td>\n",
       "      <td>4</td>\n",
       "      <td>0</td>\n",
       "      <td>0</td>\n",
       "      <td>...</td>\n",
       "      <td>0</td>\n",
       "      <td>0</td>\n",
       "      <td>0</td>\n",
       "      <td>0</td>\n",
       "      <td>0</td>\n",
       "      <td>0</td>\n",
       "      <td>0</td>\n",
       "      <td>6</td>\n",
       "      <td>0</td>\n",
       "      <td>8</td>\n",
       "    </tr>\n",
       "    <tr>\n",
       "      <th>3</th>\n",
       "      <td>3</td>\n",
       "      <td>0</td>\n",
       "      <td>0</td>\n",
       "      <td>0</td>\n",
       "      <td>0</td>\n",
       "      <td>0</td>\n",
       "      <td>0</td>\n",
       "      <td>0</td>\n",
       "      <td>0</td>\n",
       "      <td>0</td>\n",
       "      <td>...</td>\n",
       "      <td>0</td>\n",
       "      <td>0</td>\n",
       "      <td>0</td>\n",
       "      <td>0</td>\n",
       "      <td>0</td>\n",
       "      <td>0</td>\n",
       "      <td>0</td>\n",
       "      <td>0</td>\n",
       "      <td>7</td>\n",
       "      <td>0</td>\n",
       "    </tr>\n",
       "    <tr>\n",
       "      <th>4</th>\n",
       "      <td>4</td>\n",
       "      <td>0</td>\n",
       "      <td>0</td>\n",
       "      <td>0</td>\n",
       "      <td>0</td>\n",
       "      <td>0</td>\n",
       "      <td>0</td>\n",
       "      <td>0</td>\n",
       "      <td>0</td>\n",
       "      <td>0</td>\n",
       "      <td>...</td>\n",
       "      <td>0</td>\n",
       "      <td>0</td>\n",
       "      <td>0</td>\n",
       "      <td>0</td>\n",
       "      <td>0</td>\n",
       "      <td>0</td>\n",
       "      <td>0</td>\n",
       "      <td>0</td>\n",
       "      <td>0</td>\n",
       "      <td>0</td>\n",
       "    </tr>\n",
       "    <tr>\n",
       "      <th>...</th>\n",
       "      <td>...</td>\n",
       "      <td>...</td>\n",
       "      <td>...</td>\n",
       "      <td>...</td>\n",
       "      <td>...</td>\n",
       "      <td>...</td>\n",
       "      <td>...</td>\n",
       "      <td>...</td>\n",
       "      <td>...</td>\n",
       "      <td>...</td>\n",
       "      <td>...</td>\n",
       "      <td>...</td>\n",
       "      <td>...</td>\n",
       "      <td>...</td>\n",
       "      <td>...</td>\n",
       "      <td>...</td>\n",
       "      <td>...</td>\n",
       "      <td>...</td>\n",
       "      <td>...</td>\n",
       "      <td>...</td>\n",
       "      <td>...</td>\n",
       "    </tr>\n",
       "    <tr>\n",
       "      <th>808</th>\n",
       "      <td>808</td>\n",
       "      <td>0</td>\n",
       "      <td>0</td>\n",
       "      <td>0</td>\n",
       "      <td>0</td>\n",
       "      <td>0</td>\n",
       "      <td>0</td>\n",
       "      <td>0</td>\n",
       "      <td>0</td>\n",
       "      <td>0</td>\n",
       "      <td>...</td>\n",
       "      <td>0</td>\n",
       "      <td>0</td>\n",
       "      <td>0</td>\n",
       "      <td>0</td>\n",
       "      <td>0</td>\n",
       "      <td>0</td>\n",
       "      <td>0</td>\n",
       "      <td>0</td>\n",
       "      <td>0</td>\n",
       "      <td>0</td>\n",
       "    </tr>\n",
       "    <tr>\n",
       "      <th>809</th>\n",
       "      <td>809</td>\n",
       "      <td>0</td>\n",
       "      <td>0</td>\n",
       "      <td>0</td>\n",
       "      <td>1</td>\n",
       "      <td>0</td>\n",
       "      <td>0</td>\n",
       "      <td>0</td>\n",
       "      <td>0</td>\n",
       "      <td>0</td>\n",
       "      <td>...</td>\n",
       "      <td>0</td>\n",
       "      <td>0</td>\n",
       "      <td>0</td>\n",
       "      <td>0</td>\n",
       "      <td>0</td>\n",
       "      <td>0</td>\n",
       "      <td>0</td>\n",
       "      <td>0</td>\n",
       "      <td>0</td>\n",
       "      <td>0</td>\n",
       "    </tr>\n",
       "    <tr>\n",
       "      <th>810</th>\n",
       "      <td>810</td>\n",
       "      <td>0</td>\n",
       "      <td>0</td>\n",
       "      <td>0</td>\n",
       "      <td>0</td>\n",
       "      <td>0</td>\n",
       "      <td>0</td>\n",
       "      <td>0</td>\n",
       "      <td>0</td>\n",
       "      <td>0</td>\n",
       "      <td>...</td>\n",
       "      <td>0</td>\n",
       "      <td>0</td>\n",
       "      <td>0</td>\n",
       "      <td>0</td>\n",
       "      <td>0</td>\n",
       "      <td>0</td>\n",
       "      <td>0</td>\n",
       "      <td>0</td>\n",
       "      <td>0</td>\n",
       "      <td>8</td>\n",
       "    </tr>\n",
       "    <tr>\n",
       "      <th>811</th>\n",
       "      <td>811</td>\n",
       "      <td>0</td>\n",
       "      <td>0</td>\n",
       "      <td>0</td>\n",
       "      <td>0</td>\n",
       "      <td>0</td>\n",
       "      <td>0</td>\n",
       "      <td>0</td>\n",
       "      <td>0</td>\n",
       "      <td>0</td>\n",
       "      <td>...</td>\n",
       "      <td>0</td>\n",
       "      <td>0</td>\n",
       "      <td>0</td>\n",
       "      <td>0</td>\n",
       "      <td>0</td>\n",
       "      <td>0</td>\n",
       "      <td>0</td>\n",
       "      <td>0</td>\n",
       "      <td>0</td>\n",
       "      <td>0</td>\n",
       "    </tr>\n",
       "    <tr>\n",
       "      <th>812</th>\n",
       "      <td>812</td>\n",
       "      <td>0</td>\n",
       "      <td>0</td>\n",
       "      <td>0</td>\n",
       "      <td>0</td>\n",
       "      <td>0</td>\n",
       "      <td>0</td>\n",
       "      <td>0</td>\n",
       "      <td>0</td>\n",
       "      <td>0</td>\n",
       "      <td>...</td>\n",
       "      <td>0</td>\n",
       "      <td>0</td>\n",
       "      <td>0</td>\n",
       "      <td>0</td>\n",
       "      <td>0</td>\n",
       "      <td>0</td>\n",
       "      <td>0</td>\n",
       "      <td>0</td>\n",
       "      <td>0</td>\n",
       "      <td>0</td>\n",
       "    </tr>\n",
       "  </tbody>\n",
       "</table>\n",
       "<p>813 rows × 677 columns</p>\n",
       "</div>"
      ],
      "text/plain": [
       "    user #살아있다 0.0MHz 12 솔져스 120BPM 1917 1987 1급기밀 21 브릿지: 테러 셧다운 23 아이덴티티  \\\n",
       "0      0     0      8      0      0   10    0    0              0        0   \n",
       "1      1     0      0      0      0    0    0    0              0        0   \n",
       "2      2     0      0      0      0    0    0    4              0        0   \n",
       "3      3     0      0      0      0    0    0    0              0        0   \n",
       "4      4     0      0      0      0    0    0    0              0        0   \n",
       "..   ...   ...    ...    ...    ...  ...  ...  ...            ...      ...   \n",
       "808  808     0      0      0      0    0    0    0              0        0   \n",
       "809  809     0      0      0      1    0    0    0              0        0   \n",
       "810  810     0      0      0      0    0    0    0              0        0   \n",
       "811  811     0      0      0      0    0    0    0              0        0   \n",
       "812  812     0      0      0      0    0    0    0              0        0   \n",
       "\n",
       "     ... 화차 황해 후궁 : 제왕의 첩 흥부: 글로 세상을 바꾼 자 희생부활자 히든 피겨스 히말라야 히트 히트맨  \\\n",
       "0    ...  0  0          0               0     0      0    0  0   0   \n",
       "1    ...  0  0          0               0     0      0    0  0   0   \n",
       "2    ...  0  0          0               0     0      0    0  6   0   \n",
       "3    ...  0  0          0               0     0      0    0  0   7   \n",
       "4    ...  0  0          0               0     0      0    0  0   0   \n",
       "..   ... .. ..        ...             ...   ...    ...  ... ..  ..   \n",
       "808  ...  0  0          0               0     0      0    0  0   0   \n",
       "809  ...  0  0          0               0     0      0    0  0   0   \n",
       "810  ...  0  0          0               0     0      0    0  0   0   \n",
       "811  ...  0  0          0               0     0      0    0  0   0   \n",
       "812  ...  0  0          0               0     0      0    0  0   0   \n",
       "\n",
       "    힘을 내요, 미스터 리  \n",
       "0              0  \n",
       "1              0  \n",
       "2              8  \n",
       "3              0  \n",
       "4              0  \n",
       "..           ...  \n",
       "808            0  \n",
       "809            0  \n",
       "810            8  \n",
       "811            0  \n",
       "812            0  \n",
       "\n",
       "[813 rows x 677 columns]"
      ]
     },
     "execution_count": 19,
     "metadata": {},
     "output_type": "execute_result"
    }
   ],
   "source": [
    "user_num = len(df_label['user_label'].unique())\n",
    "movie_num = len(df_label['title_label'].unique())\n",
    "\n",
    "user_score_list = []\n",
    "for num in tqdm(range(0, user_num)):\n",
    "    user_score_list = [0 for i in range(movie_num)]\n",
    "#     print(user_score_list)\n",
    "    \n",
    "    df_tmp = df_label[df_label['user_label'] == num]\n",
    "# df_tmp\n",
    "    for j in df_tmp.index:\n",
    "        user_score_list[df_tmp.loc[j]['title_label']-1] = df_tmp.loc[j]['score'] # 순번이라 -1\n",
    "# user_score_list        \n",
    "    df_matrix.loc[num] = [num] + user_score_list\n",
    "    \n",
    "df_matrix\n",
    "    "
   ]
  },
  {
   "cell_type": "code",
   "execution_count": 20,
   "id": "2dc751ca",
   "metadata": {},
   "outputs": [
    {
     "data": {
      "text/plain": [
       "pandas.core.frame.DataFrame"
      ]
     },
     "execution_count": 20,
     "metadata": {},
     "output_type": "execute_result"
    }
   ],
   "source": [
    "type(df_matrix)"
   ]
  },
  {
   "cell_type": "markdown",
   "id": "2f7778ff",
   "metadata": {},
   "source": [
    "##### pickle를 사용해 데이터 프레임을 바이너리로 바꿈(유틸리티 행렬)"
   ]
  },
  {
   "cell_type": "code",
   "execution_count": 21,
   "id": "2eb13ca0",
   "metadata": {},
   "outputs": [],
   "source": [
    "import pickle\n",
    "\n",
    "file = df_matrix\n",
    "directory = open('utilitymatrix', 'wb')\n",
    "pickle.dump(file, directory)\n",
    "directory.close()"
   ]
  },
  {
   "cell_type": "code",
   "execution_count": 22,
   "id": "f014c306",
   "metadata": {},
   "outputs": [],
   "source": [
    "user_name = list(df['user'].unique())\n",
    "user_name = sorted(user_name, key=str)\n",
    "user_name = pd.DataFrame(user_name)\n",
    "user_name.columns = ['user_name']\n",
    "file_user = user_name\n",
    "\n",
    "directory_user = open('user_name', 'wb')\n",
    "pickle.dump(file_user, directory_user)\n",
    "directory_user.close()"
   ]
  },
  {
   "cell_type": "markdown",
   "id": "b05aaada-e2d8-4add-b5e1-2ae7bbb4bbe8",
   "metadata": {},
   "source": [
    "##### 저장한 파일 불러오기"
   ]
  },
  {
   "cell_type": "code",
   "execution_count": 23,
   "id": "ac9761b9",
   "metadata": {},
   "outputs": [
    {
     "data": {
      "text/html": [
       "<div>\n",
       "<style scoped>\n",
       "    .dataframe tbody tr th:only-of-type {\n",
       "        vertical-align: middle;\n",
       "    }\n",
       "\n",
       "    .dataframe tbody tr th {\n",
       "        vertical-align: top;\n",
       "    }\n",
       "\n",
       "    .dataframe thead th {\n",
       "        text-align: right;\n",
       "    }\n",
       "</style>\n",
       "<table border=\"1\" class=\"dataframe\">\n",
       "  <thead>\n",
       "    <tr style=\"text-align: right;\">\n",
       "      <th></th>\n",
       "      <th>user</th>\n",
       "      <th>#살아있다</th>\n",
       "      <th>0.0MHz</th>\n",
       "      <th>12 솔져스</th>\n",
       "      <th>120BPM</th>\n",
       "      <th>1917</th>\n",
       "      <th>1987</th>\n",
       "      <th>1급기밀</th>\n",
       "      <th>21 브릿지: 테러 셧다운</th>\n",
       "      <th>23 아이덴티티</th>\n",
       "      <th>...</th>\n",
       "      <th>화차</th>\n",
       "      <th>황해</th>\n",
       "      <th>후궁 : 제왕의 첩</th>\n",
       "      <th>흥부: 글로 세상을 바꾼 자</th>\n",
       "      <th>희생부활자</th>\n",
       "      <th>히든 피겨스</th>\n",
       "      <th>히말라야</th>\n",
       "      <th>히트</th>\n",
       "      <th>히트맨</th>\n",
       "      <th>힘을 내요, 미스터 리</th>\n",
       "    </tr>\n",
       "  </thead>\n",
       "  <tbody>\n",
       "    <tr>\n",
       "      <th>811</th>\n",
       "      <td>811</td>\n",
       "      <td>0</td>\n",
       "      <td>0</td>\n",
       "      <td>0</td>\n",
       "      <td>0</td>\n",
       "      <td>0</td>\n",
       "      <td>0</td>\n",
       "      <td>0</td>\n",
       "      <td>0</td>\n",
       "      <td>0</td>\n",
       "      <td>...</td>\n",
       "      <td>0</td>\n",
       "      <td>0</td>\n",
       "      <td>0</td>\n",
       "      <td>0</td>\n",
       "      <td>0</td>\n",
       "      <td>0</td>\n",
       "      <td>0</td>\n",
       "      <td>0</td>\n",
       "      <td>0</td>\n",
       "      <td>0</td>\n",
       "    </tr>\n",
       "    <tr>\n",
       "      <th>812</th>\n",
       "      <td>812</td>\n",
       "      <td>0</td>\n",
       "      <td>0</td>\n",
       "      <td>0</td>\n",
       "      <td>0</td>\n",
       "      <td>0</td>\n",
       "      <td>0</td>\n",
       "      <td>0</td>\n",
       "      <td>0</td>\n",
       "      <td>0</td>\n",
       "      <td>...</td>\n",
       "      <td>0</td>\n",
       "      <td>0</td>\n",
       "      <td>0</td>\n",
       "      <td>0</td>\n",
       "      <td>0</td>\n",
       "      <td>0</td>\n",
       "      <td>0</td>\n",
       "      <td>0</td>\n",
       "      <td>0</td>\n",
       "      <td>0</td>\n",
       "    </tr>\n",
       "  </tbody>\n",
       "</table>\n",
       "<p>2 rows × 677 columns</p>\n",
       "</div>"
      ],
      "text/plain": [
       "    user #살아있다 0.0MHz 12 솔져스 120BPM 1917 1987 1급기밀 21 브릿지: 테러 셧다운 23 아이덴티티  \\\n",
       "811  811     0      0      0      0    0    0    0              0        0   \n",
       "812  812     0      0      0      0    0    0    0              0        0   \n",
       "\n",
       "     ... 화차 황해 후궁 : 제왕의 첩 흥부: 글로 세상을 바꾼 자 희생부활자 히든 피겨스 히말라야 히트 히트맨  \\\n",
       "811  ...  0  0          0               0     0      0    0  0   0   \n",
       "812  ...  0  0          0               0     0      0    0  0   0   \n",
       "\n",
       "    힘을 내요, 미스터 리  \n",
       "811            0  \n",
       "812            0  \n",
       "\n",
       "[2 rows x 677 columns]"
      ]
     },
     "execution_count": 23,
     "metadata": {},
     "output_type": "execute_result"
    }
   ],
   "source": [
    "f = open('utilitymatrix', 'rb',)\n",
    "utilitymatrix = pickle.load(f)\n",
    "df = utilitymatrix\n",
    "df.tail(2)"
   ]
  },
  {
   "cell_type": "code",
   "execution_count": 24,
   "id": "84c5947f-fbfd-4121-91a7-656289f414e1",
   "metadata": {},
   "outputs": [
    {
     "data": {
      "text/html": [
       "<div>\n",
       "<style scoped>\n",
       "    .dataframe tbody tr th:only-of-type {\n",
       "        vertical-align: middle;\n",
       "    }\n",
       "\n",
       "    .dataframe tbody tr th {\n",
       "        vertical-align: top;\n",
       "    }\n",
       "\n",
       "    .dataframe thead th {\n",
       "        text-align: right;\n",
       "    }\n",
       "</style>\n",
       "<table border=\"1\" class=\"dataframe\">\n",
       "  <thead>\n",
       "    <tr style=\"text-align: right;\">\n",
       "      <th></th>\n",
       "      <th>user_name</th>\n",
       "    </tr>\n",
       "  </thead>\n",
       "  <tbody>\n",
       "    <tr>\n",
       "      <th>811</th>\n",
       "      <td>zzza</td>\n",
       "    </tr>\n",
       "    <tr>\n",
       "      <th>812</th>\n",
       "      <td>zzzz</td>\n",
       "    </tr>\n",
       "  </tbody>\n",
       "</table>\n",
       "</div>"
      ],
      "text/plain": [
       "    user_name\n",
       "811      zzza\n",
       "812      zzzz"
      ]
     },
     "execution_count": 24,
     "metadata": {},
     "output_type": "execute_result"
    }
   ],
   "source": [
    "f = open('user_name', 'rb',)\n",
    "user_name = pickle.load(f)\n",
    "user_name.tail(2)"
   ]
  },
  {
   "cell_type": "code",
   "execution_count": 25,
   "id": "a796b89c-a783-4ca6-9407-c3d67f57beeb",
   "metadata": {},
   "outputs": [
    {
     "data": {
      "text/html": [
       "<div>\n",
       "<style scoped>\n",
       "    .dataframe tbody tr th:only-of-type {\n",
       "        vertical-align: middle;\n",
       "    }\n",
       "\n",
       "    .dataframe tbody tr th {\n",
       "        vertical-align: top;\n",
       "    }\n",
       "\n",
       "    .dataframe thead th {\n",
       "        text-align: right;\n",
       "    }\n",
       "</style>\n",
       "<table border=\"1\" class=\"dataframe\">\n",
       "  <thead>\n",
       "    <tr style=\"text-align: right;\">\n",
       "      <th></th>\n",
       "      <th>user_name</th>\n",
       "      <th>user</th>\n",
       "      <th>#살아있다</th>\n",
       "      <th>0.0MHz</th>\n",
       "      <th>12 솔져스</th>\n",
       "      <th>120BPM</th>\n",
       "      <th>1917</th>\n",
       "      <th>1987</th>\n",
       "      <th>1급기밀</th>\n",
       "      <th>21 브릿지: 테러 셧다운</th>\n",
       "      <th>...</th>\n",
       "      <th>화차</th>\n",
       "      <th>황해</th>\n",
       "      <th>후궁 : 제왕의 첩</th>\n",
       "      <th>흥부: 글로 세상을 바꾼 자</th>\n",
       "      <th>희생부활자</th>\n",
       "      <th>히든 피겨스</th>\n",
       "      <th>히말라야</th>\n",
       "      <th>히트</th>\n",
       "      <th>히트맨</th>\n",
       "      <th>힘을 내요, 미스터 리</th>\n",
       "    </tr>\n",
       "  </thead>\n",
       "  <tbody>\n",
       "    <tr>\n",
       "      <th>0</th>\n",
       "      <td>009h</td>\n",
       "      <td>0</td>\n",
       "      <td>0</td>\n",
       "      <td>8</td>\n",
       "      <td>0</td>\n",
       "      <td>0</td>\n",
       "      <td>10</td>\n",
       "      <td>0</td>\n",
       "      <td>0</td>\n",
       "      <td>0</td>\n",
       "      <td>...</td>\n",
       "      <td>0</td>\n",
       "      <td>0</td>\n",
       "      <td>0</td>\n",
       "      <td>0</td>\n",
       "      <td>0</td>\n",
       "      <td>0</td>\n",
       "      <td>0</td>\n",
       "      <td>0</td>\n",
       "      <td>0</td>\n",
       "      <td>0</td>\n",
       "    </tr>\n",
       "    <tr>\n",
       "      <th>1</th>\n",
       "      <td>0106</td>\n",
       "      <td>1</td>\n",
       "      <td>0</td>\n",
       "      <td>0</td>\n",
       "      <td>0</td>\n",
       "      <td>0</td>\n",
       "      <td>0</td>\n",
       "      <td>0</td>\n",
       "      <td>0</td>\n",
       "      <td>0</td>\n",
       "      <td>...</td>\n",
       "      <td>0</td>\n",
       "      <td>0</td>\n",
       "      <td>0</td>\n",
       "      <td>0</td>\n",
       "      <td>0</td>\n",
       "      <td>0</td>\n",
       "      <td>0</td>\n",
       "      <td>0</td>\n",
       "      <td>0</td>\n",
       "      <td>0</td>\n",
       "    </tr>\n",
       "    <tr>\n",
       "      <th>2</th>\n",
       "      <td>1111</td>\n",
       "      <td>2</td>\n",
       "      <td>0</td>\n",
       "      <td>0</td>\n",
       "      <td>0</td>\n",
       "      <td>0</td>\n",
       "      <td>0</td>\n",
       "      <td>0</td>\n",
       "      <td>4</td>\n",
       "      <td>0</td>\n",
       "      <td>...</td>\n",
       "      <td>0</td>\n",
       "      <td>0</td>\n",
       "      <td>0</td>\n",
       "      <td>0</td>\n",
       "      <td>0</td>\n",
       "      <td>0</td>\n",
       "      <td>0</td>\n",
       "      <td>6</td>\n",
       "      <td>0</td>\n",
       "      <td>8</td>\n",
       "    </tr>\n",
       "    <tr>\n",
       "      <th>3</th>\n",
       "      <td>111o</td>\n",
       "      <td>3</td>\n",
       "      <td>0</td>\n",
       "      <td>0</td>\n",
       "      <td>0</td>\n",
       "      <td>0</td>\n",
       "      <td>0</td>\n",
       "      <td>0</td>\n",
       "      <td>0</td>\n",
       "      <td>0</td>\n",
       "      <td>...</td>\n",
       "      <td>0</td>\n",
       "      <td>0</td>\n",
       "      <td>0</td>\n",
       "      <td>0</td>\n",
       "      <td>0</td>\n",
       "      <td>0</td>\n",
       "      <td>0</td>\n",
       "      <td>0</td>\n",
       "      <td>7</td>\n",
       "      <td>0</td>\n",
       "    </tr>\n",
       "    <tr>\n",
       "      <th>4</th>\n",
       "      <td>1432</td>\n",
       "      <td>4</td>\n",
       "      <td>0</td>\n",
       "      <td>0</td>\n",
       "      <td>0</td>\n",
       "      <td>0</td>\n",
       "      <td>0</td>\n",
       "      <td>0</td>\n",
       "      <td>0</td>\n",
       "      <td>0</td>\n",
       "      <td>...</td>\n",
       "      <td>0</td>\n",
       "      <td>0</td>\n",
       "      <td>0</td>\n",
       "      <td>0</td>\n",
       "      <td>0</td>\n",
       "      <td>0</td>\n",
       "      <td>0</td>\n",
       "      <td>0</td>\n",
       "      <td>0</td>\n",
       "      <td>0</td>\n",
       "    </tr>\n",
       "    <tr>\n",
       "      <th>...</th>\n",
       "      <td>...</td>\n",
       "      <td>...</td>\n",
       "      <td>...</td>\n",
       "      <td>...</td>\n",
       "      <td>...</td>\n",
       "      <td>...</td>\n",
       "      <td>...</td>\n",
       "      <td>...</td>\n",
       "      <td>...</td>\n",
       "      <td>...</td>\n",
       "      <td>...</td>\n",
       "      <td>...</td>\n",
       "      <td>...</td>\n",
       "      <td>...</td>\n",
       "      <td>...</td>\n",
       "      <td>...</td>\n",
       "      <td>...</td>\n",
       "      <td>...</td>\n",
       "      <td>...</td>\n",
       "      <td>...</td>\n",
       "      <td>...</td>\n",
       "    </tr>\n",
       "    <tr>\n",
       "      <th>808</th>\n",
       "      <td>zltm</td>\n",
       "      <td>808</td>\n",
       "      <td>0</td>\n",
       "      <td>0</td>\n",
       "      <td>0</td>\n",
       "      <td>0</td>\n",
       "      <td>0</td>\n",
       "      <td>0</td>\n",
       "      <td>0</td>\n",
       "      <td>0</td>\n",
       "      <td>...</td>\n",
       "      <td>0</td>\n",
       "      <td>0</td>\n",
       "      <td>0</td>\n",
       "      <td>0</td>\n",
       "      <td>0</td>\n",
       "      <td>0</td>\n",
       "      <td>0</td>\n",
       "      <td>0</td>\n",
       "      <td>0</td>\n",
       "      <td>0</td>\n",
       "    </tr>\n",
       "    <tr>\n",
       "      <th>809</th>\n",
       "      <td>zxcb</td>\n",
       "      <td>809</td>\n",
       "      <td>0</td>\n",
       "      <td>0</td>\n",
       "      <td>0</td>\n",
       "      <td>1</td>\n",
       "      <td>0</td>\n",
       "      <td>0</td>\n",
       "      <td>0</td>\n",
       "      <td>0</td>\n",
       "      <td>...</td>\n",
       "      <td>0</td>\n",
       "      <td>0</td>\n",
       "      <td>0</td>\n",
       "      <td>0</td>\n",
       "      <td>0</td>\n",
       "      <td>0</td>\n",
       "      <td>0</td>\n",
       "      <td>0</td>\n",
       "      <td>0</td>\n",
       "      <td>0</td>\n",
       "    </tr>\n",
       "    <tr>\n",
       "      <th>810</th>\n",
       "      <td>zzoa</td>\n",
       "      <td>810</td>\n",
       "      <td>0</td>\n",
       "      <td>0</td>\n",
       "      <td>0</td>\n",
       "      <td>0</td>\n",
       "      <td>0</td>\n",
       "      <td>0</td>\n",
       "      <td>0</td>\n",
       "      <td>0</td>\n",
       "      <td>...</td>\n",
       "      <td>0</td>\n",
       "      <td>0</td>\n",
       "      <td>0</td>\n",
       "      <td>0</td>\n",
       "      <td>0</td>\n",
       "      <td>0</td>\n",
       "      <td>0</td>\n",
       "      <td>0</td>\n",
       "      <td>0</td>\n",
       "      <td>8</td>\n",
       "    </tr>\n",
       "    <tr>\n",
       "      <th>811</th>\n",
       "      <td>zzza</td>\n",
       "      <td>811</td>\n",
       "      <td>0</td>\n",
       "      <td>0</td>\n",
       "      <td>0</td>\n",
       "      <td>0</td>\n",
       "      <td>0</td>\n",
       "      <td>0</td>\n",
       "      <td>0</td>\n",
       "      <td>0</td>\n",
       "      <td>...</td>\n",
       "      <td>0</td>\n",
       "      <td>0</td>\n",
       "      <td>0</td>\n",
       "      <td>0</td>\n",
       "      <td>0</td>\n",
       "      <td>0</td>\n",
       "      <td>0</td>\n",
       "      <td>0</td>\n",
       "      <td>0</td>\n",
       "      <td>0</td>\n",
       "    </tr>\n",
       "    <tr>\n",
       "      <th>812</th>\n",
       "      <td>zzzz</td>\n",
       "      <td>812</td>\n",
       "      <td>0</td>\n",
       "      <td>0</td>\n",
       "      <td>0</td>\n",
       "      <td>0</td>\n",
       "      <td>0</td>\n",
       "      <td>0</td>\n",
       "      <td>0</td>\n",
       "      <td>0</td>\n",
       "      <td>...</td>\n",
       "      <td>0</td>\n",
       "      <td>0</td>\n",
       "      <td>0</td>\n",
       "      <td>0</td>\n",
       "      <td>0</td>\n",
       "      <td>0</td>\n",
       "      <td>0</td>\n",
       "      <td>0</td>\n",
       "      <td>0</td>\n",
       "      <td>0</td>\n",
       "    </tr>\n",
       "  </tbody>\n",
       "</table>\n",
       "<p>813 rows × 678 columns</p>\n",
       "</div>"
      ],
      "text/plain": [
       "    user_name user #살아있다 0.0MHz 12 솔져스 120BPM 1917 1987 1급기밀 21 브릿지: 테러 셧다운  \\\n",
       "0        009h    0     0      8      0      0   10    0    0              0   \n",
       "1        0106    1     0      0      0      0    0    0    0              0   \n",
       "2        1111    2     0      0      0      0    0    0    4              0   \n",
       "3        111o    3     0      0      0      0    0    0    0              0   \n",
       "4        1432    4     0      0      0      0    0    0    0              0   \n",
       "..        ...  ...   ...    ...    ...    ...  ...  ...  ...            ...   \n",
       "808      zltm  808     0      0      0      0    0    0    0              0   \n",
       "809      zxcb  809     0      0      0      1    0    0    0              0   \n",
       "810      zzoa  810     0      0      0      0    0    0    0              0   \n",
       "811      zzza  811     0      0      0      0    0    0    0              0   \n",
       "812      zzzz  812     0      0      0      0    0    0    0              0   \n",
       "\n",
       "     ... 화차 황해 후궁 : 제왕의 첩 흥부: 글로 세상을 바꾼 자 희생부활자 히든 피겨스 히말라야 히트 히트맨  \\\n",
       "0    ...  0  0          0               0     0      0    0  0   0   \n",
       "1    ...  0  0          0               0     0      0    0  0   0   \n",
       "2    ...  0  0          0               0     0      0    0  6   0   \n",
       "3    ...  0  0          0               0     0      0    0  0   7   \n",
       "4    ...  0  0          0               0     0      0    0  0   0   \n",
       "..   ... .. ..        ...             ...   ...    ...  ... ..  ..   \n",
       "808  ...  0  0          0               0     0      0    0  0   0   \n",
       "809  ...  0  0          0               0     0      0    0  0   0   \n",
       "810  ...  0  0          0               0     0      0    0  0   0   \n",
       "811  ...  0  0          0               0     0      0    0  0   0   \n",
       "812  ...  0  0          0               0     0      0    0  0   0   \n",
       "\n",
       "    힘을 내요, 미스터 리  \n",
       "0              0  \n",
       "1              0  \n",
       "2              8  \n",
       "3              0  \n",
       "4              0  \n",
       "..           ...  \n",
       "808            0  \n",
       "809            0  \n",
       "810            8  \n",
       "811            0  \n",
       "812            0  \n",
       "\n",
       "[813 rows x 678 columns]"
      ]
     },
     "execution_count": 25,
     "metadata": {},
     "output_type": "execute_result"
    }
   ],
   "source": [
    "df_concat = pd.concat([user_name, df], axis=1)\n",
    "df_concat"
   ]
  },
  {
   "cell_type": "code",
   "execution_count": 26,
   "id": "9d4dc9c5-3e69-411f-a35c-3c0850f6e080",
   "metadata": {},
   "outputs": [
    {
     "data": {
      "text/plain": [
       "array([[1.        , 0.05613716, 0.00198079, ..., 0.01302958, 0.00343308,\n",
       "        0.00901196],\n",
       "       [0.05613716, 1.        , 0.02840261, ..., 0.02709107, 0.0256648 ,\n",
       "        0.02804853],\n",
       "       [0.00198079, 0.02840261, 1.        , ..., 0.03280501, 0.03159466,\n",
       "        0.03157395],\n",
       "       ...,\n",
       "       [0.01302958, 0.02709107, 0.03280501, ..., 1.        , 0.99806968,\n",
       "        0.99806768],\n",
       "       [0.00343308, 0.0256648 , 0.03159466, ..., 0.99806968, 1.        ,\n",
       "        0.99871743],\n",
       "       [0.00901196, 0.02804853, 0.03157395, ..., 0.99806768, 0.99871743,\n",
       "        1.        ]])"
      ]
     },
     "execution_count": 26,
     "metadata": {},
     "output_type": "execute_result"
    }
   ],
   "source": [
    "# 코사인 유사도를 구하는 함수를 만들어 사용\n",
    "def cosine_similiarity(data_name):\n",
    "    from sklearn.metrics.pairwise import cosine_distances\n",
    "    similiarity = 1 - cosine_distances(data_name)\n",
    "    return similiarity\n",
    "\n",
    "cos_sim = cosine_similiarity(df)\n",
    "cos_sim"
   ]
  },
  {
   "cell_type": "markdown",
   "id": "0449b4d5-c13e-45ac-8cdc-a3ccda2bc903",
   "metadata": {},
   "source": [
    "##### 한 유저 k가 선택되면 k가 평점을 안한 영화의 평점을 예측해서 k에게 높은 것을 추천한다.\n",
    "##### 단, 다른 유저를 n명의 s유저를 이용해서"
   ]
  },
  {
   "cell_type": "code",
   "execution_count": 27,
   "id": "06656324-9a22-4dbc-bdd7-bc69fb6e031a",
   "metadata": {},
   "outputs": [],
   "source": [
    "class Basic(object):\n",
    "    def __init__(self, user_name, neigh_num):\n",
    "        self.user_name = user_name\n",
    "        self.neigh_num = neigh_num\n",
    "        \n",
    "    # 유저를 입력하면 유저의 번호로 리턴\n",
    "    def convert_user_name(self):\n",
    "        user_name_list = list(df_concat['user_name'].unique())\n",
    "        \n",
    "        for num in range(len(user_name_list)):\n",
    "            if user_name_list[num] == self.user_name:\n",
    "                user_num = num\n",
    "        \n",
    "        return user_num\n",
    "    \n",
    "    # target 유저와 유사한 유저 n명을 찾고 , cosine metrics를 사용하여 이웃한 거리를 찾는다.\n",
    "    def find_near_neighbor(self):\n",
    "        from sklearn.neighbors import NearestNeighbors # 비지도\n",
    "        user_num = Basic.convert_user_name(self)\n",
    "        KNN = NearestNeighbors(n_neighbors = self.neigh_num, metric = 'cosine') # self.neigh_num명 이웃\n",
    "        KNN.fit(df)\n",
    "        \n",
    "        similiars = {}\n",
    "        # 유사한 유저간의 거리\n",
    "        similiar_distance , similiar_users = KNN.kneighbors(df)\n",
    "        similiar_distance = similiar_distance[user_num][1:]\n",
    "        similiars['sim_distance'] = similiar_distance\n",
    "        \n",
    "        # 유사한 유저\n",
    "        similiar_users = similiar_users[user_num][1:]\n",
    "        similiars['sim_users'] = list(similiar_users)\n",
    "        \n",
    "        return similiars\n",
    "    \n",
    "    # target 유저와 유사한 n명으로 이루워진 새로운 데이터 프레임 만들고 narray형식으로 반환\n",
    "    def near_neighbors_narray(self):\n",
    "        similiars = Basic.find_near_neighbor(self)\n",
    "        similiar_users_list = similiars['sim_users']\n",
    "        similiar_distances = similiars['sim_distance']\n",
    "        \n",
    "        columns = list(df.columns)\n",
    "        new_df = pd.DataFrame(columns=columns)\n",
    "        \n",
    "        for i in range(len(similiar_users_list)):\n",
    "            neighbor_df = df[df['user'] == similiar_users_list[i]]\n",
    "            neighbor_df = pd.concat([new_df, neighbor_df])\n",
    "            new_df = neighbor_df\n",
    "            \n",
    "        narray = new_df.values\n",
    "        narray = narray[:, 1:]\n",
    "        \n",
    "        return narray"
   ]
  },
  {
   "cell_type": "code",
   "execution_count": 28,
   "id": "bea13a56-541a-4ee3-bf2f-c3b5372fb7e1",
   "metadata": {},
   "outputs": [
    {
     "data": {
      "text/plain": [
       "array([[0, 0, 0, ..., 0, 0, 0],\n",
       "       [0, 0, 0, ..., 0, 0, 0],\n",
       "       [0, 0, 0, ..., 0, 0, 0],\n",
       "       ...,\n",
       "       [0, 0, 0, ..., 0, 0, 0],\n",
       "       [0, 0, 0, ..., 0, 0, 0],\n",
       "       [0, 0, 0, ..., 0, 0, 0]], dtype=object)"
      ]
     },
     "execution_count": 28,
     "metadata": {},
     "output_type": "execute_result"
    }
   ],
   "source": [
    "user_neighbors = Basic('tnen', 20)\n",
    "user_neighbors_narray = user_neighbors.near_neighbors_narray()\n",
    "user_neighbors_narray"
   ]
  },
  {
   "cell_type": "code",
   "execution_count": 29,
   "id": "5d2ddb31-e9ec-49ec-a0e0-5b2a83b75f73",
   "metadata": {},
   "outputs": [
    {
     "data": {
      "text/plain": [
       "19"
      ]
     },
     "execution_count": 29,
     "metadata": {},
     "output_type": "execute_result"
    }
   ],
   "source": [
    "len(user_neighbors_narray)"
   ]
  },
  {
   "cell_type": "code",
   "execution_count": 30,
   "id": "060e2449-c08f-49f2-8fce-c81e12524d7a",
   "metadata": {},
   "outputs": [],
   "source": [
    "class Calculation_rating(Basic):\n",
    "    def __init__(self, user_name, neigh_num):\n",
    "        Basic.__init__(self, user_name, neigh_num)\n",
    "        \n",
    "    def predict_rating(self):\n",
    "        narray = Basic.near_neighbors_narray(self)\n",
    "        similiars = Basic.find_near_neighbor(self)\n",
    "        similiar_distances = similiars['sim_distance']\n",
    "#         print(similiar_distances)\n",
    "        rating_list = []\n",
    "        \n",
    "        #0~n-1\n",
    "        for col_num in range(narray.shape[1]):\n",
    "            sum = 0\n",
    "            rating = 0\n",
    "            for i in range(1, len(narray[:, col_num])):\n",
    "                sum += float(narray[:, col_num][i]) * float(similiar_distances[i])\n",
    "#             print(sum)\n",
    "            rating = sum / similiar_distances.sum()\n",
    "            \n",
    "            if rating < 0:\n",
    "                rating = 0\n",
    "            elif rating > 10:\n",
    "                rating = 10\n",
    "            else:\n",
    "                rating = int(rating)\n",
    "            \n",
    "            rating_list.append(rating)\n",
    "        return rating_list\n",
    "    \n",
    "    # 타겟유저의 평점(가상)을 리스트로 변환\n",
    "    def original_rating(self):\n",
    "        user_num = Basic.convert_user_name(self)\n",
    "        \n",
    "        # target 유저의 평점을 narray로 변환\n",
    "        target_df = df[df['user'] == user_num]\n",
    "        target_narray = target_df.values\n",
    "        target_narray = target_narray[:, 1:]\n",
    "        \n",
    "        # narray로 변환된 유저의 평점을 리스트로 변환\n",
    "        target_user_rating_list = []\n",
    "        for i in range(target_narray.shape[1]):\n",
    "            raw_rating = int(target_narray[0][i])\n",
    "            target_user_rating_list.append(raw_rating)\n",
    "        return target_user_rating_list"
   ]
  },
  {
   "cell_type": "code",
   "execution_count": 31,
   "id": "4d550fd2-d3df-4ef1-b88a-8efc494c2177",
   "metadata": {},
   "outputs": [
    {
     "name": "stdout",
     "output_type": "stream",
     "text": [
      "  (0, 39)\t1\n",
      "  (0, 73)\t1\n",
      "  (0, 81)\t1\n",
      "  (0, 98)\t1\n",
      "  (0, 100)\t1\n",
      "  (0, 116)\t1\n",
      "  (0, 213)\t2\n",
      "  (0, 233)\t1\n",
      "  (0, 291)\t2\n",
      "  (0, 347)\t1\n",
      "  (0, 351)\t1\n",
      "  (0, 384)\t2\n",
      "  (0, 392)\t1\n",
      "  (0, 401)\t1\n",
      "  (0, 460)\t1\n",
      "  (0, 486)\t1\n",
      "  (0, 564)\t2\n",
      "  (0, 584)\t1\n",
      "  (0, 624)\t2\n",
      "  (0, 642)\t1\n"
     ]
    }
   ],
   "source": [
    "from scipy.sparse import csr_matrix # 0 아닌 숫자 위치\n",
    "user_tnen = Calculation_rating('dela', 6) # 이웃한 거리\n",
    "# print(user_tnen)\n",
    "print(csr_matrix(user_tnen.predict_rating()))"
   ]
  },
  {
   "cell_type": "code",
   "execution_count": 32,
   "id": "1f0803b9-337d-4a93-b48a-fa0e249de2aa",
   "metadata": {},
   "outputs": [
    {
     "name": "stdout",
     "output_type": "stream",
     "text": [
      "  (0, 42)\t8\n",
      "  (0, 100)\t10\n",
      "  (0, 117)\t5\n",
      "  (0, 213)\t6\n",
      "  (0, 253)\t5\n",
      "  (0, 335)\t6\n",
      "  (0, 567)\t5\n",
      "  (0, 584)\t6\n",
      "  (0, 597)\t3\n",
      "  (0, 657)\t9\n",
      "[0, 0, 0, 0, 0, 0, 0, 0, 0, 0, 0, 0, 0, 0, 0, 0, 0, 0, 0, 0, 0, 0, 0, 0, 0, 0, 0, 0, 0, 0, 0, 0, 0, 0, 0, 0, 0, 0, 0, 0, 0, 0, 8, 0, 0, 0, 0, 0, 0, 0, 0, 0, 0, 0, 0, 0, 0, 0, 0, 0, 0, 0, 0, 0, 0, 0, 0, 0, 0, 0, 0, 0, 0, 0, 0, 0, 0, 0, 0, 0, 0, 0, 0, 0, 0, 0, 0, 0, 0, 0, 0, 0, 0, 0, 0, 0, 0, 0, 0, 0, 10, 0, 0, 0, 0, 0, 0, 0, 0, 0, 0, 0, 0, 0, 0, 0, 0, 5, 0, 0, 0, 0, 0, 0, 0, 0, 0, 0, 0, 0, 0, 0, 0, 0, 0, 0, 0, 0, 0, 0, 0, 0, 0, 0, 0, 0, 0, 0, 0, 0, 0, 0, 0, 0, 0, 0, 0, 0, 0, 0, 0, 0, 0, 0, 0, 0, 0, 0, 0, 0, 0, 0, 0, 0, 0, 0, 0, 0, 0, 0, 0, 0, 0, 0, 0, 0, 0, 0, 0, 0, 0, 0, 0, 0, 0, 0, 0, 0, 0, 0, 0, 0, 0, 0, 0, 0, 0, 0, 0, 0, 0, 0, 0, 6, 0, 0, 0, 0, 0, 0, 0, 0, 0, 0, 0, 0, 0, 0, 0, 0, 0, 0, 0, 0, 0, 0, 0, 0, 0, 0, 0, 0, 0, 0, 0, 0, 0, 0, 0, 0, 0, 0, 0, 5, 0, 0, 0, 0, 0, 0, 0, 0, 0, 0, 0, 0, 0, 0, 0, 0, 0, 0, 0, 0, 0, 0, 0, 0, 0, 0, 0, 0, 0, 0, 0, 0, 0, 0, 0, 0, 0, 0, 0, 0, 0, 0, 0, 0, 0, 0, 0, 0, 0, 0, 0, 0, 0, 0, 0, 0, 0, 0, 0, 0, 0, 0, 0, 0, 0, 0, 0, 0, 0, 0, 0, 0, 0, 0, 0, 0, 0, 0, 0, 0, 0, 6, 0, 0, 0, 0, 0, 0, 0, 0, 0, 0, 0, 0, 0, 0, 0, 0, 0, 0, 0, 0, 0, 0, 0, 0, 0, 0, 0, 0, 0, 0, 0, 0, 0, 0, 0, 0, 0, 0, 0, 0, 0, 0, 0, 0, 0, 0, 0, 0, 0, 0, 0, 0, 0, 0, 0, 0, 0, 0, 0, 0, 0, 0, 0, 0, 0, 0, 0, 0, 0, 0, 0, 0, 0, 0, 0, 0, 0, 0, 0, 0, 0, 0, 0, 0, 0, 0, 0, 0, 0, 0, 0, 0, 0, 0, 0, 0, 0, 0, 0, 0, 0, 0, 0, 0, 0, 0, 0, 0, 0, 0, 0, 0, 0, 0, 0, 0, 0, 0, 0, 0, 0, 0, 0, 0, 0, 0, 0, 0, 0, 0, 0, 0, 0, 0, 0, 0, 0, 0, 0, 0, 0, 0, 0, 0, 0, 0, 0, 0, 0, 0, 0, 0, 0, 0, 0, 0, 0, 0, 0, 0, 0, 0, 0, 0, 0, 0, 0, 0, 0, 0, 0, 0, 0, 0, 0, 0, 0, 0, 0, 0, 0, 0, 0, 0, 0, 0, 0, 0, 0, 0, 0, 0, 0, 0, 0, 0, 0, 0, 0, 0, 0, 0, 0, 0, 0, 0, 0, 0, 0, 0, 0, 0, 0, 0, 0, 0, 0, 0, 0, 0, 0, 0, 0, 0, 0, 0, 0, 0, 0, 0, 0, 5, 0, 0, 0, 0, 0, 0, 0, 0, 0, 0, 0, 0, 0, 0, 0, 0, 6, 0, 0, 0, 0, 0, 0, 0, 0, 0, 0, 0, 0, 3, 0, 0, 0, 0, 0, 0, 0, 0, 0, 0, 0, 0, 0, 0, 0, 0, 0, 0, 0, 0, 0, 0, 0, 0, 0, 0, 0, 0, 0, 0, 0, 0, 0, 0, 0, 0, 0, 0, 0, 0, 0, 0, 0, 0, 0, 0, 0, 0, 0, 0, 0, 0, 0, 0, 0, 0, 0, 0, 0, 9, 0, 0, 0, 0, 0, 0, 0, 0, 0, 0, 0, 0, 0, 0, 0, 0, 0, 0]\n"
     ]
    }
   ],
   "source": [
    "print(csr_matrix(user_tnen.original_rating()))\n",
    "print(user_tnen.original_rating())"
   ]
  },
  {
   "cell_type": "markdown",
   "id": "260dda03-c1cf-40b7-8655-8153b3ab1bc7",
   "metadata": {},
   "source": [
    "##### 5. MSE를 평가"
   ]
  },
  {
   "cell_type": "code",
   "execution_count": 33,
   "id": "35540659-adae-493b-98dc-d6355ee0d445",
   "metadata": {},
   "outputs": [],
   "source": [
    "def evalation(neigh_num):\n",
    "    from sklearn.metrics import mean_squared_error\n",
    "    mse = 0\n",
    "    user_name_list = list(df_concat['user_name'].unique())\n",
    "    \n",
    "    for user_name in tqdm(user_name_list):\n",
    "        cal = Calculation_rating(user_name, neigh_num)\n",
    "        predict_list = cal.predict_rating()\n",
    "        original_list = cal.original_rating()\n",
    "        \n",
    "        mse_onebyone = mean_squared_error(predict_list, original_list)\n",
    "        mse += mse_onebyone\n",
    "        \n",
    "    mse_mean = mse / len(user_name_list)\n",
    "    return mse_mean"
   ]
  },
  {
   "cell_type": "code",
   "execution_count": 34,
   "id": "daaa030a-16a1-4125-bd65-f46c901b4d9c",
   "metadata": {},
   "outputs": [
    {
     "name": "stderr",
     "output_type": "stream",
     "text": [
      "100%|████████████████████████████████████████████████████████████████████████████████| 813/813 [04:12<00:00,  3.22it/s]\n",
      "100%|████████████████████████████████████████████████████████████████████████████████| 813/813 [03:49<00:00,  3.54it/s]\n",
      "100%|████████████████████████████████████████████████████████████████████████████████| 813/813 [03:12<00:00,  4.23it/s]"
     ]
    },
    {
     "name": "stdout",
     "output_type": "stream",
     "text": [
      "1.8051977117404305\n",
      "1.77620326499123\n",
      "1.732173919372332\n"
     ]
    },
    {
     "name": "stderr",
     "output_type": "stream",
     "text": [
      "\n"
     ]
    }
   ],
   "source": [
    "mse_mean_60 = evalation(60)\n",
    "mse_mean_40 = evalation(40)\n",
    "mse_mean_20 = evalation(20)\n",
    "\n",
    "for mse_mean in [mse_mean_60, mse_mean_40, mse_mean_20]:\n",
    "    print(mse_mean)"
   ]
  },
  {
   "cell_type": "code",
   "execution_count": 35,
   "id": "4482d04b-b7df-4dcb-8bd7-22994638ccce",
   "metadata": {},
   "outputs": [
    {
     "name": "stderr",
     "output_type": "stream",
     "text": [
      "100%|████████████████████████████████████████████████████████████████████████████████| 813/813 [02:53<00:00,  4.70it/s]\n"
     ]
    },
    {
     "name": "stdout",
     "output_type": "stream",
     "text": [
      "이웃의 수가 6일때 MSE의 값은 1.716771472448453이다.\n"
     ]
    },
    {
     "name": "stderr",
     "output_type": "stream",
     "text": [
      "100%|████████████████████████████████████████████████████████████████████████████████| 813/813 [02:54<00:00,  4.65it/s]\n"
     ]
    },
    {
     "name": "stdout",
     "output_type": "stream",
     "text": [
      "이웃의 수가 8일때 MSE의 값은 1.7011834319526626이다.\n"
     ]
    },
    {
     "name": "stderr",
     "output_type": "stream",
     "text": [
      "100%|████████████████████████████████████████████████████████████████████████████████| 813/813 [02:59<00:00,  4.53it/s]"
     ]
    },
    {
     "name": "stdout",
     "output_type": "stream",
     "text": [
      "이웃의 수가 11일때 MSE의 값은 1.7164548716493084이다.\n",
      "Wall time: 8min 47s\n"
     ]
    },
    {
     "name": "stderr",
     "output_type": "stream",
     "text": [
      "\n"
     ]
    }
   ],
   "source": [
    "%%time\n",
    "neigh_num = [6, 8, 11]\n",
    "for i in neigh_num:\n",
    "    neigh_num_i = evalation(i)\n",
    "    print(f'이웃의 수가 {i}일때 MSE의 값은 {neigh_num_i}이다.')"
   ]
  },
  {
   "cell_type": "code",
   "execution_count": 36,
   "id": "76344ba2-9b2c-4752-a62a-ec764c6efabb",
   "metadata": {},
   "outputs": [
    {
     "name": "stderr",
     "output_type": "stream",
     "text": [
      "100%|████████████████████████████████████████████████████████████████████████████████| 813/813 [02:52<00:00,  4.71it/s]"
     ]
    },
    {
     "name": "stdout",
     "output_type": "stream",
     "text": [
      "1.7058924139537255\n"
     ]
    },
    {
     "name": "stderr",
     "output_type": "stream",
     "text": [
      "\n"
     ]
    }
   ],
   "source": [
    "print(evalation(7))"
   ]
  },
  {
   "cell_type": "code",
   "execution_count": 37,
   "id": "4b3309dc-240e-4dc1-8c10-de751dd79aca",
   "metadata": {},
   "outputs": [
    {
     "name": "stderr",
     "output_type": "stream",
     "text": [
      "100%|████████████████████████████████████████████████████████████████████████████████| 813/813 [02:40<00:00,  5.07it/s]"
     ]
    },
    {
     "name": "stdout",
     "output_type": "stream",
     "text": [
      "1.9328769914918094\n"
     ]
    },
    {
     "name": "stderr",
     "output_type": "stream",
     "text": [
      "\n"
     ]
    }
   ],
   "source": [
    "print(evalation(2))"
   ]
  },
  {
   "cell_type": "markdown",
   "id": "140cdceb-af9b-4f9f-be8d-94860b4a4221",
   "metadata": {},
   "source": [
    "##### 6. 예측한 평점을 가지고 타겟유저에게 3편의 영화를 추천"
   ]
  },
  {
   "cell_type": "code",
   "execution_count": 38,
   "id": "d5dcaf38-3c49-4b58-a9f6-76609defe40a",
   "metadata": {},
   "outputs": [
    {
     "data": {
      "text/plain": [
       "Index(['#살아있다', '0.0MHz', '12 솔져스', '120BPM', '1917', '1987', '1급기밀',\n",
       "       '21 브릿지: 테러 셧다운', '23 아이덴티티', '26년',\n",
       "       ...\n",
       "       '화차', '황해', '후궁 : 제왕의 첩', '흥부: 글로 세상을 바꾼 자', '희생부활자', '히든 피겨스', '히말라야',\n",
       "       '히트', '히트맨', '힘을 내요, 미스터 리'],\n",
       "      dtype='object', length=676)"
      ]
     },
     "execution_count": 38,
     "metadata": {},
     "output_type": "execute_result"
    }
   ],
   "source": [
    "df.columns[1:]"
   ]
  },
  {
   "cell_type": "code",
   "execution_count": 39,
   "id": "6f5da86b-2f0c-4cf0-b4db-34c760421fe5",
   "metadata": {},
   "outputs": [],
   "source": [
    "class UBCF(Calculation_rating):\n",
    "    def __init__(self, user_name, neigh_num):\n",
    "        Basic.__init__(self, user_name, neigh_num)\n",
    "        Calculation_rating.__init__(self, user_name, neigh_num)\n",
    "        \n",
    "    def recommend_movie_list(self):\n",
    "        user_num = Basic.convert_user_name(self)\n",
    "        predict_list = Calculation_rating.predict_rating(self)\n",
    "        original_list = Calculation_rating.original_rating(self)\n",
    "        all_movie_list = list(df.columns[1:])\n",
    "        \n",
    "        '''타겟 유저의 이미 평가된 영화 이외의 영화를 추천하기 위해서 타겟 유저의 평점이 0이면\n",
    "        가중값을 넣고 그렇지 않으면 0을 넣는다.'''\n",
    "        \n",
    "        temp_list = []\n",
    "        \n",
    "        for i in range(len(predict_list)):\n",
    "            if int(original_list[i]) != 0:\n",
    "                temp_list.append(0)\n",
    "            else:\n",
    "                temp_list.append(int(predict_list[i]))\n",
    "                \n",
    "        # 5점이상인 영화 추천\n",
    "        recommend_list_index = []\n",
    "        for i in range(len(temp_list)):\n",
    "            if temp_list[i] >= 5:\n",
    "                recommend_list_index.append(i)\n",
    "        \n",
    "        # recommen_list_index로 부터 영화 제목을 str로 저장\n",
    "        recommend_list_str = []\n",
    "        for i in recommend_list_index:\n",
    "            recommend_list_str.append(all_movie_list[i])\n",
    "            \n",
    "        # 전체 영화중에서 타겟유저가 이미 평가한 영화를 제거\n",
    "        already_rating_movie_num = [i for i in range(len(temp_list)) if temp_list[i] == 0]\n",
    "        user_movie_list = [all_movie_list[i] for i in range(len(all_movie_list)) if i not in already_rating_movie_num]\n",
    "        \n",
    "        final_dict = {}\n",
    "        final_dict['by_rating'] = recommend_list_str\n",
    "        final_dict['by_delete'] = user_movie_list\n",
    "        return final_dict\n",
    "    \n",
    "\n",
    "    \"\"\"영화 추천 실행 함수\"\"\"\n",
    "    def recommendation(self):\n",
    "        user_number = Basic.convert_user_name(self)\n",
    "        movie_dict = UBCF.recommend_movie_list(self)\n",
    "        by_rating_list = movie_dict['by_rating']\n",
    "        by_delete_list = movie_dict['by_delete']\n",
    "        # 만약 추천 리스트가 3개 이상이라면 가중평균 리스트에서 3편의 영화를 추천리스트에서 추천\n",
    "        # 그렇지 않으면 유저가 이미 평가했던 영화를 제외한 영화 리스트에서 추천\n",
    "        if len(by_rating_list) >= 3:\n",
    "            recommendation_selection = random.sample(by_rating_list, 3)\n",
    "        else:\n",
    "            if len(by_delete_list) >= 3 :\n",
    "                recommendation_selection = random.sample(by_delete_list, 3)\n",
    "            else:\n",
    "                recommendation_selection = random.sample(by_delete_list, 1)\n",
    "        user_name = df_concat['user_name'][user_number]    # user number를 user의 아이디로 변경\n",
    "        print('{}님을 위한 추천 영화 입니다.'.format(user_name))\n",
    "        print(recommendation_selection)\n",
    "        return recommendation_selection"
   ]
  },
  {
   "cell_type": "code",
   "execution_count": 40,
   "id": "80da6fa4-3c49-49fa-90db-8578a49aa76b",
   "metadata": {},
   "outputs": [
    {
     "name": "stdout",
     "output_type": "stream",
     "text": [
      "{'by_rating': [], 'by_delete': ['결백', '기억의 밤', '너의 이름은.', '범블비', '신비한 동물사전', '오피셜 시크릿', '유전', '치즈인더트랩', '파이프라인', '프리키 데스데이']}\n",
      "dela님을 위한 추천 영화 입니다.\n",
      "['파이프라인', '너의 이름은.', '신비한 동물사전']\n",
      "['파이프라인', '너의 이름은.', '신비한 동물사전']\n"
     ]
    }
   ],
   "source": [
    "cf_dela = UBCF('dela', 8)\n",
    "final_dict = cf_dela.recommend_movie_list()\n",
    "print(final_dict)\n",
    "final_dict = cf_dela.recommendation()\n",
    "print(final_dict)"
   ]
  },
  {
   "cell_type": "code",
   "execution_count": 41,
   "id": "8ec0e7c8-729f-4ce8-a6bb-791360634d95",
   "metadata": {},
   "outputs": [
    {
     "name": "stdout",
     "output_type": "stream",
     "text": [
      "{'by_rating': [], 'by_delete': ['날씨의 아이', '더 랍스터', '런', '바스터즈: 거친 녀석들', '발레리안: 천 개 행성의 도시', '분노의 질주: 홉스&쇼', '암전', '존 윅 - 리로드', '페인 앤 글로리']}\n",
      "ykki님을 위한 추천 영화 입니다.\n",
      "['분노의 질주: 홉스&쇼', '바스터즈: 거친 녀석들', '더 랍스터']\n",
      "['분노의 질주: 홉스&쇼', '바스터즈: 거친 녀석들', '더 랍스터']\n"
     ]
    }
   ],
   "source": [
    "cf_dela = UBCF('ykki', 8)\n",
    "final_dict = cf_dela.recommend_movie_list()\n",
    "print(final_dict)\n",
    "final_dict = cf_dela.recommendation()\n",
    "print(final_dict)"
   ]
  },
  {
   "cell_type": "code",
   "execution_count": 42,
   "id": "23bd520b-a08d-432d-9e5f-81b938db0bf3",
   "metadata": {},
   "outputs": [
    {
     "name": "stdout",
     "output_type": "stream",
     "text": [
      "{'by_rating': [], 'by_delete': ['맘마미아!2', '신비한 동물들과 그린델왈드의 범죄']}\n",
      "tnen님을 위한 추천 영화 입니다.\n",
      "['맘마미아!2']\n",
      "['맘마미아!2']\n"
     ]
    }
   ],
   "source": [
    "cf_dela = UBCF('tnen', 8)\n",
    "final_dict = cf_dela.recommend_movie_list()\n",
    "print(final_dict)\n",
    "final_dict = cf_dela.recommendation()\n",
    "print(final_dict)"
   ]
  },
  {
   "cell_type": "markdown",
   "id": "548876b8-3f25-44d3-b27c-dd89a7cce399",
   "metadata": {},
   "source": [
    "#### 이미지 불러오기"
   ]
  },
  {
   "cell_type": "code",
   "execution_count": 43,
   "id": "6774e5df-71e2-4e52-8c51-3c01a1266fb9",
   "metadata": {},
   "outputs": [],
   "source": [
    "import requests\n",
    "import json\n",
    "\n",
    "url = 'https://openapi.naver.com/v1/search/movie.json?display=100&query=기방도령'\n",
    "clientId = \"8hjnTxa7N2VdEHlGFjOe\"\n",
    "clientSecret = \"GYxF4X3eMh\"\n",
    "header = {\n",
    "    \"X-Naver-Client-Id\":clientId,\n",
    "    \"X-naver-Client-secret\":clientSecret\n",
    "}\n",
    "\n",
    "r = requests.get(url, headers=header)\n",
    "movie_json = json.loads(r.text)"
   ]
  },
  {
   "cell_type": "code",
   "execution_count": 44,
   "id": "3c3884f4-81e8-427a-9882-92abbad653b3",
   "metadata": {},
   "outputs": [
    {
     "data": {
      "text/plain": [
       "{'lastBuildDate': 'Wed, 07 Jul 2021 22:39:01 +0900',\n",
       " 'total': 1,\n",
       " 'start': 1,\n",
       " 'display': 1,\n",
       " 'items': [{'title': '<b>기방도령</b>',\n",
       "   'link': 'https://movie.naver.com/movie/bi/mi/basic.nhn?code=180209',\n",
       "   'image': 'https://ssl.pstatic.net/imgmovie/mdi/mit110/1802/180209_P42_134851.jpg',\n",
       "   'subtitle': 'HOMME FATALE',\n",
       "   'pubDate': '2019',\n",
       "   'director': '남대중|',\n",
       "   'actor': '준호|정소민|최귀화|예지원|공명|',\n",
       "   'userRating': '5.81'}]}"
      ]
     },
     "execution_count": 44,
     "metadata": {},
     "output_type": "execute_result"
    }
   ],
   "source": [
    "movie_json"
   ]
  },
  {
   "cell_type": "code",
   "execution_count": 45,
   "id": "2e075a29-8d59-4a62-ab91-ea6561926f01",
   "metadata": {},
   "outputs": [],
   "source": [
    "movie_image = movie_json['items'][0]['image']"
   ]
  },
  {
   "cell_type": "code",
   "execution_count": 46,
   "id": "8e76bcbf-05e9-4ede-a17b-d1051717481f",
   "metadata": {},
   "outputs": [
    {
     "data": {
      "text/plain": [
       "'https://ssl.pstatic.net/imgmovie/mdi/mit110/1802/180209_P42_134851.jpg'"
      ]
     },
     "execution_count": 46,
     "metadata": {},
     "output_type": "execute_result"
    }
   ],
   "source": [
    "movie_image"
   ]
  },
  {
   "cell_type": "code",
   "execution_count": 48,
   "id": "06dcfb31-4898-4f44-98c3-83bfc14c3734",
   "metadata": {},
   "outputs": [
    {
     "name": "stdout",
     "output_type": "stream",
     "text": [
      "0.19264531135559082\n"
     ]
    }
   ],
   "source": [
    "import os\n",
    "import time\n",
    "\n",
    "# time check\n",
    "start = time.time()\n",
    "\n",
    "# curl 요청\n",
    "os.system(\"curl \" + movie_image + \" > dataset/test.jpg\")\n",
    "\n",
    "# 이미지 다운로드 시간 체크\n",
    "print(time.time() - start)\n"
   ]
  },
  {
   "cell_type": "code",
   "execution_count": 49,
   "id": "982a981f-6613-4645-b99b-a9db2a07779f",
   "metadata": {},
   "outputs": [
    {
     "data": {
      "image/png": "[encoded data removed]",
      "text/plain": [
       "<PIL.JpegImagePlugin.JpegImageFile image mode=RGB size=110x158 at 0x2D38E8ACDC0>"
      ]
     },
     "execution_count": 49,
     "metadata": {},
     "output_type": "execute_result"
    }
   ],
   "source": [
    "from PIL import Image\n",
    " \n",
    "image = Image.open(\"dataset/test.jpg\")\n",
    " \n",
    "image"
   ]
  },
  {
   "cell_type": "markdown",
   "id": "ba6b492f-4f34-4ad0-8fdd-4d6556f66cb5",
   "metadata": {},
   "source": [
    "#### 이미지 불러오기 실습"
   ]
  },
  {
   "cell_type": "code",
   "execution_count": 58,
   "id": "dd6a43a2-edf1-4e96-9f39-40fc12d224fa",
   "metadata": {},
   "outputs": [
    {
     "name": "stdin",
     "output_type": "stream",
     "text": [
      "찾을 유저이름 입력 :  ykki\n"
     ]
    },
    {
     "name": "stdout",
     "output_type": "stream",
     "text": [
      "{'by_rating': [], 'by_delete': ['날씨의 아이', '더 랍스터', '런', '바스터즈: 거친 녀석들', '발레리안: 천 개 행성의 도시', '분노의 질주: 홉스&쇼', '암전', '존 윅 - 리로드', '페인 앤 글로리']}\n",
      "ykki님을 위한 추천 영화 입니다.\n",
      "['페인 앤 글로리', '분노의 질주: 홉스&쇼', '날씨의 아이']\n",
      "['페인 앤 글로리', '분노의 질주: 홉스&쇼', '날씨의 아이']\n"
     ]
    }
   ],
   "source": [
    "find_user_input = input('찾을 유저이름 입력 : ')\n",
    "cf_dela = UBCF(find_user_input, 8)\n",
    "final_dict = cf_dela.recommend_movie_list()\n",
    "print(final_dict)\n",
    "final_dict = cf_dela.recommendation()\n",
    "print(final_dict)"
   ]
  },
  {
   "cell_type": "code",
   "execution_count": 59,
   "id": "a83b06a0-da5c-4096-9e37-2f62be2b768f",
   "metadata": {},
   "outputs": [],
   "source": [
    "import requests\n",
    "import json\n",
    "\n",
    "movie_json = []\n",
    "for i in final_dict:\n",
    "    url = f'https://openapi.naver.com/v1/search/movie.json?display=100&query={i}'\n",
    "    clientId = \"8hjnTxa7N2VdEHlGFjOe\"\n",
    "    clientSecret = \"GYxF4X3eMh\"\n",
    "    header = {\n",
    "        \"X-Naver-Client-Id\":clientId,\n",
    "        \"X-naver-Client-secret\":clientSecret\n",
    "    }\n",
    "\n",
    "    r = requests.get(url, headers=header)\n",
    "    movie_json.append(json.loads(r.text))"
   ]
  },
  {
   "cell_type": "code",
   "execution_count": 60,
   "id": "30b825c9-2402-4d3d-bc22-d5d43490b0df",
   "metadata": {},
   "outputs": [],
   "source": [
    "movie_image = []\n",
    "for i in movie_json:\n",
    "    movie_image.append(i['items'][0]['image'])"
   ]
  },
  {
   "cell_type": "code",
   "execution_count": 61,
   "id": "4ee157ce-0cdb-4641-bb22-5f627f940c3f",
   "metadata": {},
   "outputs": [
    {
     "data": {
      "text/plain": [
       "['https://ssl.pstatic.net/imgmovie/mdi/mit110/1852/185254_P33_133531.jpg',\n",
       " 'https://ssl.pstatic.net/imgmovie/mdi/mit110/1823/182355_P29_103027.jpg',\n",
       " 'https://ssl.pstatic.net/imgmovie/mdi/mit110/1811/181114_P51_143716.jpg']"
      ]
     },
     "execution_count": 61,
     "metadata": {},
     "output_type": "execute_result"
    }
   ],
   "source": [
    "movie_image"
   ]
  },
  {
   "cell_type": "code",
   "execution_count": 63,
   "id": "d2854670-3851-4b7e-8623-dee3c90d3b47",
   "metadata": {},
   "outputs": [
    {
     "name": "stdout",
     "output_type": "stream",
     "text": [
      "ykki 님 새로운 영화를 추천해 드릴께요\n"
     ]
    },
    {
     "data": {
      "image/png": "[encoded data removed]",
      "text/plain": [
       "<Figure size 432x288 with 1 Axes>"
      ]
     },
     "metadata": {},
     "output_type": "display_data"
    },
    {
     "data": {
      "image/png": "[encoded data removed]",
      "text/plain": [
       "<Figure size 432x288 with 1 Axes>"
      ]
     },
     "metadata": {},
     "output_type": "display_data"
    },
    {
     "data": {
      "image/png": "[encoded data removed]",
      "text/plain": [
       "<Figure size 432x288 with 1 Axes>"
      ]
     },
     "metadata": {},
     "output_type": "display_data"
    }
   ],
   "source": [
    "import os\n",
    "import time\n",
    "import matplotlib.pyplot as plt\n",
    "\n",
    "print(f\"{find_user_input} 님 새로운 영화를 추천해 드릴께요\")\n",
    "for i in range(len(movie_image)):\n",
    "    # time check\n",
    "    start = time.time()\n",
    "\n",
    "    # curl 요청\n",
    "    os.system(\"curl \" + movie_image[i] + f' > dataset/test{i}.jpg')\n",
    "\n",
    "    # 이미지 다운로드 시간 체크\n",
    "#     print(time.time() - start)\n",
    "\n",
    "    \n",
    "    \n",
    "    from PIL import Image\n",
    "    \n",
    "    image = Image.open(f\"dataset/test{i}.jpg\")\n",
    "    plt.axis('off')\n",
    "    plt.imshow(image)\n",
    "    plt.show()\n",
    "    \n"
   ]
  },
  {
   "cell_type": "code",
   "execution_count": 64,
   "id": "a8753049-26b0-4447-9f43-ec7ea013a3eb",
   "metadata": {},
   "outputs": [
    {
     "name": "stdout",
     "output_type": "stream",
     "text": [
      "Remove All File\n"
     ]
    }
   ],
   "source": [
    "# 폴더 내 모든 파일 삭제 함수\n",
    "def removeAllFile(filePath):\n",
    "    if os.path.exists(filePath):\n",
    "        for file in os.scandir(filePath):\n",
    "            os.remove(file.path)\n",
    "        return 'Remove All File'\n",
    "    else:\n",
    "        return 'Directory Not Found'\n",
    "\n",
    "print(removeAllFile('dataset'))"
   ]
  },
  {
   "cell_type": "code",
   "execution_count": null,
   "id": "47c0eef3-71c3-46dd-93c4-ba7025e02f86",
   "metadata": {},
   "outputs": [],
   "source": []
  }
 ],
 "metadata": {
  "kernelspec": {
   "display_name": "Python 3",
   "language": "python",
   "name": "python3"
  },
  "language_info": {
   "codemirror_mode": {
    "name": "ipython",
    "version": 3
   },
   "file_extension": ".py",
   "mimetype": "text/x-python",
   "name": "python",
   "nbconvert_exporter": "python",
   "pygments_lexer": "ipython3",
   "version": "3.8.9"
  }
 },
 "nbformat": 4,
 "nbformat_minor": 5
}
